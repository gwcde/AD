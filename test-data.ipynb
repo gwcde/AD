{
 "cells": [
  {
   "cell_type": "code",
   "execution_count": 1,
   "id": "411e463c-a60d-4250-970c-dcf1f92e97e2",
   "metadata": {},
   "outputs": [],
   "source": [
    "import numpy as np\n",
    "import pandas as pd"
   ]
  },
  {
   "cell_type": "code",
   "execution_count": 2,
   "id": "5f7fcb0f-f899-451d-8616-03a43f218bc5",
   "metadata": {},
   "outputs": [],
   "source": [
    "df = pd.read_csv('/home/shaoz/projects/collaborate/spgc/AD/MADReSS-23-train/training-groundtruth.csv')"
   ]
  },
  {
   "cell_type": "code",
   "execution_count": 3,
   "id": "282d0977-844f-4874-9fc4-6fb99cce8daf",
   "metadata": {},
   "outputs": [
    {
     "data": {
      "text/html": [
       "<div>\n",
       "<style scoped>\n",
       "    .dataframe tbody tr th:only-of-type {\n",
       "        vertical-align: middle;\n",
       "    }\n",
       "\n",
       "    .dataframe tbody tr th {\n",
       "        vertical-align: top;\n",
       "    }\n",
       "\n",
       "    .dataframe thead th {\n",
       "        text-align: right;\n",
       "    }\n",
       "</style>\n",
       "<table border=\"1\" class=\"dataframe\">\n",
       "  <thead>\n",
       "    <tr style=\"text-align: right;\">\n",
       "      <th></th>\n",
       "      <th>adressfname</th>\n",
       "      <th>age</th>\n",
       "      <th>gender</th>\n",
       "      <th>educ</th>\n",
       "      <th>dx</th>\n",
       "      <th>mmse</th>\n",
       "    </tr>\n",
       "  </thead>\n",
       "  <tbody>\n",
       "    <tr>\n",
       "      <th>0</th>\n",
       "      <td>adrso002</td>\n",
       "      <td>70</td>\n",
       "      <td>female</td>\n",
       "      <td>NaN</td>\n",
       "      <td>Control</td>\n",
       "      <td>26.0</td>\n",
       "    </tr>\n",
       "    <tr>\n",
       "      <th>1</th>\n",
       "      <td>adrso003</td>\n",
       "      <td>72</td>\n",
       "      <td>female</td>\n",
       "      <td>NaN</td>\n",
       "      <td>Control</td>\n",
       "      <td>30.0</td>\n",
       "    </tr>\n",
       "    <tr>\n",
       "      <th>2</th>\n",
       "      <td>adrso004</td>\n",
       "      <td>74</td>\n",
       "      <td>female</td>\n",
       "      <td>NaN</td>\n",
       "      <td>Control</td>\n",
       "      <td>30.0</td>\n",
       "    </tr>\n",
       "    <tr>\n",
       "      <th>3</th>\n",
       "      <td>adrso005</td>\n",
       "      <td>67</td>\n",
       "      <td>female</td>\n",
       "      <td>NaN</td>\n",
       "      <td>Control</td>\n",
       "      <td>27.0</td>\n",
       "    </tr>\n",
       "    <tr>\n",
       "      <th>4</th>\n",
       "      <td>adrso006</td>\n",
       "      <td>65</td>\n",
       "      <td>female</td>\n",
       "      <td>NaN</td>\n",
       "      <td>Control</td>\n",
       "      <td>28.0</td>\n",
       "    </tr>\n",
       "  </tbody>\n",
       "</table>\n",
       "</div>"
      ],
      "text/plain": [
       "  adressfname  age  gender  educ       dx  mmse\n",
       "0    adrso002   70  female   NaN  Control  26.0\n",
       "1    adrso003   72  female   NaN  Control  30.0\n",
       "2    adrso004   74  female   NaN  Control  30.0\n",
       "3    adrso005   67  female   NaN  Control  27.0\n",
       "4    adrso006   65  female   NaN  Control  28.0"
      ]
     },
     "execution_count": 3,
     "metadata": {},
     "output_type": "execute_result"
    }
   ],
   "source": [
    "df.head(5)"
   ]
  },
  {
   "cell_type": "code",
   "execution_count": 4,
   "id": "0a8a4ca8-c08c-48a4-b54f-95db1a7dc8a1",
   "metadata": {},
   "outputs": [
    {
     "data": {
      "text/plain": [
       "(237, 6)"
      ]
     },
     "execution_count": 4,
     "metadata": {},
     "output_type": "execute_result"
    }
   ],
   "source": [
    "df.shape"
   ]
  },
  {
   "cell_type": "code",
   "execution_count": 10,
   "id": "5abd77b8-2af7-40b1-80fe-bd2a3871d37e",
   "metadata": {},
   "outputs": [
    {
     "data": {
      "text/plain": [
       "['Control', 'ProbableAD']"
      ]
     },
     "execution_count": 10,
     "metadata": {},
     "output_type": "execute_result"
    }
   ],
   "source": [
    "list(df['dx'].unique())"
   ]
  },
  {
   "cell_type": "code",
   "execution_count": 7,
   "id": "b68b915c-b317-4e9f-9e4b-c4f5ff22e8af",
   "metadata": {},
   "outputs": [],
   "source": [
    "item = df.loc[2,:]"
   ]
  },
  {
   "cell_type": "code",
   "execution_count": 8,
   "id": "6abd0cad-c740-4318-a79e-8e6fad9fc53e",
   "metadata": {},
   "outputs": [
    {
     "data": {
      "text/plain": [
       "'Control'"
      ]
     },
     "execution_count": 8,
     "metadata": {},
     "output_type": "execute_result"
    }
   ],
   "source": [
    "item['dx']"
   ]
  },
  {
   "cell_type": "code",
   "execution_count": null,
   "id": "8d32556b-af49-425e-916e-dced946fe8e2",
   "metadata": {},
   "outputs": [],
   "source": []
  },
  {
   "cell_type": "code",
   "execution_count": null,
   "id": "61792af4-3066-4dc9-91cf-f55ecb8cebb9",
   "metadata": {},
   "outputs": [],
   "source": []
  },
  {
   "cell_type": "code",
   "execution_count": null,
   "id": "32ee8b3f-9018-494b-815d-e47e764fa8cd",
   "metadata": {},
   "outputs": [],
   "source": []
  }
 ],
 "metadata": {
  "kernelspec": {
   "display_name": "s3prl",
   "language": "python",
   "name": "s3prl"
  },
  "language_info": {
   "codemirror_mode": {
    "name": "ipython",
    "version": 3
   },
   "file_extension": ".py",
   "mimetype": "text/x-python",
   "name": "python",
   "nbconvert_exporter": "python",
   "pygments_lexer": "ipython3",
   "version": "3.10.8"
  }
 },
 "nbformat": 4,
 "nbformat_minor": 5
}
