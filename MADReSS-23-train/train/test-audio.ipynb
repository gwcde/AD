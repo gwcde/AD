{
 "cells": [
  {
   "cell_type": "code",
   "execution_count": 1,
   "id": "b78d6bbb-cd88-4cc0-80c8-8b34bed09a72",
   "metadata": {},
   "outputs": [
    {
     "name": "stdout",
     "output_type": "stream",
     "text": [
      "adrso002.mp3  adrso059.mp3  adrso148.mp3  adrso209.mp3\tadrso268.mp3\n",
      "adrso003.mp3  adrso060.mp3  adrso149.mp3  adrso210.mp3\tadrso269.mp3\n",
      "adrso004.mp3  adrso062.mp3  adrso150.mp3  adrso211.mp3\tadrso270.mp3\n",
      "adrso005.mp3  adrso063.mp3  adrso151.mp3  adrso212.mp3\tadrso272.mp3\n",
      "adrso006.mp3  adrso064.mp3  adrso152.mp3  adrso214.mp3\tadrso273.mp3\n",
      "adrso007.mp3  adrso065.mp3  adrso153.mp3  adrso215.mp3\tadrso274.mp3\n",
      "adrso008.mp3  adrso066.mp3  adrso154.mp3  adrso216.mp3\tadrso275.mp3\n",
      "adrso009.mp3  adrso068.mp3  adrso155.mp3  adrso217.mp3\tadrso276.mp3\n",
      "adrso010.mp3  adrso070.mp3  adrso156.mp3  adrso218.mp3\tadrso277.mp3\n",
      "adrso011.mp3  adrso071.mp3  adrso157.mp3  adrso219.mp3\tadrso278.mp3\n",
      "adrso012.mp3  adrso072.mp3  adrso158.mp3  adrso220.mp3\tadrso279.mp3\n",
      "adrso013.mp3  adrso074.mp3  adrso159.mp3  adrso222.mp3\tadrso280.mp3\n",
      "adrso014.mp3  adrso075.mp3  adrso160.mp3  adrso223.mp3\tadrso281.mp3\n",
      "adrso015.mp3  adrso077.mp3  adrso161.mp3  adrso224.mp3\tadrso283.mp3\n",
      "adrso016.mp3  adrso078.mp3  adrso162.mp3  adrso226.mp3\tadrso284.mp3\n",
      "adrso017.mp3  adrso083.mp3  adrso164.mp3  adrso228.mp3\tadrso285.mp3\n",
      "adrso018.mp3  adrso088.mp3  adrso165.mp3  adrso229.mp3\tadrso286.mp3\n",
      "adrso019.mp3  adrso089.mp3  adrso166.mp3  adrso231.mp3\tadrso287.mp3\n",
      "adrso020.mp3  adrso090.mp3  adrso167.mp3  adrso232.mp3\tadrso288.mp3\n",
      "adrso021.mp3  adrso092.mp3  adrso168.mp3  adrso233.mp3\tadrso289.mp3\n",
      "adrso022.mp3  adrso093.mp3  adrso169.mp3  adrso234.mp3\tadrso290.mp3\n",
      "adrso023.mp3  adrso098.mp3  adrso170.mp3  adrso235.mp3\tadrso291.mp3\n",
      "adrso024.mp3  adrso099.mp3  adrso171.mp3  adrso236.mp3\tadrso292.mp3\n",
      "adrso025.mp3  adrso106.mp3  adrso172.mp3  adrso237.mp3\tadrso293.mp3\n",
      "adrso027.mp3  adrso108.mp3  adrso173.mp3  adrso243.mp3\tadrso294.mp3\n",
      "adrso028.mp3  adrso109.mp3  adrso177.mp3  adrso244.mp3\tadrso295.mp3\n",
      "adrso029.mp3  adrso110.mp3  adrso178.mp3  adrso245.mp3\tadrso296.mp3\n",
      "adrso031.mp3  adrso112.mp3  adrso179.mp3  adrso246.mp3\tadrso297.mp3\n",
      "adrso032.mp3  adrso113.mp3  adrso180.mp3  adrso247.mp3\tadrso298.mp3\n",
      "adrso033.mp3  adrso116.mp3  adrso181.mp3  adrso248.mp3\tadrso299.mp3\n",
      "adrso035.mp3  adrso117.mp3  adrso182.mp3  adrso249.mp3\tadrso300.mp3\n",
      "adrso036.mp3  adrso118.mp3  adrso183.mp3  adrso250.mp3\tadrso301.mp3\n",
      "adrso037.mp3  adrso121.mp3  adrso184.mp3  adrso251.mp3\tadrso302.mp3\n",
      "adrso038.mp3  adrso122.mp3  adrso185.mp3  adrso253.mp3\tadrso303.mp3\n",
      "adrso039.mp3  adrso123.mp3  adrso186.mp3  adrso254.mp3\tadrso304.mp3\n",
      "adrso041.mp3  adrso124.mp3  adrso187.mp3  adrso255.mp3\tadrso307.mp3\n",
      "adrso042.mp3  adrso125.mp3  adrso188.mp3  adrso256.mp3\tadrso308.mp3\n",
      "adrso043.mp3  adrso126.mp3  adrso189.mp3  adrso257.mp3\tadrso309.mp3\n",
      "adrso044.mp3  adrso128.mp3  adrso190.mp3  adrso258.mp3\tadrso310.mp3\n",
      "adrso045.mp3  adrso130.mp3  adrso192.mp3  adrso259.mp3\tadrso312.mp3\n",
      "adrso046.mp3  adrso132.mp3  adrso194.mp3  adrso260.mp3\tadrso313.mp3\n",
      "adrso047.mp3  adrso134.mp3  adrso197.mp3  adrso261.mp3\tadrso314.mp3\n",
      "adrso049.mp3  adrso135.mp3  adrso198.mp3  adrso262.mp3\tadrso315.mp3\n",
      "adrso052.mp3  adrso138.mp3  adrso199.mp3  adrso263.mp3\tadrso316.mp3\n",
      "adrso053.mp3  adrso140.mp3  adrso200.mp3  adrso264.mp3\tadrso317.mp3\n",
      "adrso054.mp3  adrso141.mp3  adrso202.mp3  adrso265.mp3\tUntitled.ipynb\n",
      "adrso055.mp3  adrso142.mp3  adrso205.mp3  adrso266.mp3\n",
      "adrso056.mp3  adrso144.mp3  adrso206.mp3  adrso267.mp3\n"
     ]
    }
   ],
   "source": [
    "!ls"
   ]
  },
  {
   "cell_type": "code",
   "execution_count": 8,
   "id": "45777140-59c1-4fda-aded-db15f3f8ac41",
   "metadata": {},
   "outputs": [],
   "source": [
    "import torchaudio"
   ]
  },
  {
   "cell_type": "code",
   "execution_count": 9,
   "id": "da23d247-e1e6-4a79-8b8a-379f19359299",
   "metadata": {},
   "outputs": [],
   "source": [
    "torchaudio.set_audio_backend(\"soundfile\")"
   ]
  },
  {
   "cell_type": "code",
   "execution_count": 10,
   "id": "905ff686-a21d-4cf4-a4a1-09336cc93722",
   "metadata": {},
   "outputs": [
    {
     "data": {
      "text/plain": [
       "<torchaudio.backend.common.AudioMetaData at 0x7f484e6c0ee0>"
      ]
     },
     "execution_count": 10,
     "metadata": {},
     "output_type": "execute_result"
    }
   ],
   "source": [
    "filename = \"adrso002.mp3\"\n",
    "torchaudio.info(filename)"
   ]
  },
  {
   "cell_type": "code",
   "execution_count": 11,
   "id": "fc013d15-b3ff-4825-a16b-a32c8a098ebb",
   "metadata": {},
   "outputs": [
    {
     "name": "stdout",
     "output_type": "stream",
     "text": [
      "torch.Size([2, 3440640]) 44100\n"
     ]
    }
   ],
   "source": [
    "wav, sample_rate = torchaudio.load(filename)\n",
    "print(wav.shape, sample_rate)"
   ]
  },
  {
   "cell_type": "code",
   "execution_count": null,
   "id": "dae2dedc-769b-48a7-8e24-2f9d9e1c54cf",
   "metadata": {},
   "outputs": [],
   "source": []
  }
 ],
 "metadata": {
  "kernelspec": {
   "display_name": "s3prl",
   "language": "python",
   "name": "s3prl"
  },
  "language_info": {
   "codemirror_mode": {
    "name": "ipython",
    "version": 3
   },
   "file_extension": ".py",
   "mimetype": "text/x-python",
   "name": "python",
   "nbconvert_exporter": "python",
   "pygments_lexer": "ipython3",
   "version": "3.10.8"
  }
 },
 "nbformat": 4,
 "nbformat_minor": 5
}
