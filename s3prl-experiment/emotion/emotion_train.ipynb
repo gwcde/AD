{
 "cells": [
  {
   "cell_type": "markdown",
   "source": [
    "## 参考emotion"
   ],
   "metadata": {
    "collapsed": false
   }
  },
  {
   "cell_type": "code",
   "execution_count": 1,
   "outputs": [],
   "source": [
    "import json\n",
    "import os\n",
    "import yaml\n",
    "import pandas as pd\n",
    "from s3prl.downstream.emotion.dataset import IEMOCAPDataset\n",
    "from s3prl.downstream.emotion.expert import DownstreamExpert\n",
    "from s3prl.downstream.emotion.model import *"
   ],
   "metadata": {
    "collapsed": false
   }
  },
  {
   "cell_type": "code",
   "execution_count": 2,
   "outputs": [],
   "source": [
    "SAMPLE_RATE = 16000\n",
    "\n",
    "yaml_path = \"emotion_config.yaml\"\n",
    "\n",
    "# train_set path\n",
    "train_set_path = '../Data/train'\n",
    "train_label_path = \"../Data/training-groundtruth.csv\"\n",
    "\n",
    "# test_set path\n",
    "sample_path = \"../Data/sample\"\n",
    "sample_label_path = \"../Data/sample-groundtruth.csv\"\n",
    "Ivanova_path = \"../Data/Ivanova\"\n",
    "need_MCI = False\n",
    "\n",
    "\n",
    "# 生成的json 存放位置\n",
    "train_json_path = \"../Data/train.json\"\n",
    "test_json_path = \"../Data/test.json\""
   ],
   "metadata": {
    "collapsed": false
   }
  },
  {
   "cell_type": "markdown",
   "source": [
    "## 创建json文件，存储path, label"
   ],
   "metadata": {
    "collapsed": false
   }
  },
  {
   "cell_type": "code",
   "execution_count": 3,
   "outputs": [],
   "source": [
    "symbols_dict = {'Control':0, \"ProbableAD\": 1}\n",
    "def get_train_json():\n",
    "    \"\"\" return a dictionary:  dict = { label: symbol_dict,\n",
    "                                       data: { {path:str, label:str}, {}, {} } } \"\"\"\n",
    "    # 判断json是否已经存在\n",
    "    if os.path.exists(train_json_path):\n",
    "        return\n",
    "\n",
    "    data = {\"labels\": symbols_dict} # 创建一个字典\n",
    "\n",
    "    # get wavs_path\n",
    "    wavs_path = [x for x in os.listdir(train_set_path)]\n",
    "\n",
    "    y_data = pd.read_csv(train_label_path, usecols=[0,4])\n",
    "    y_dict = y_data.set_index('adressfname').to_dict()['dx']\n",
    "\n",
    "    data['meta_data'] = [{\"path\": k, \"label\": y_dict[k[: -4]]} for k in wavs_path]\n",
    "    print(f\"train_data count = {len(data['meta_data'])}\")\n",
    "\n",
    "    with open(train_json_path, 'w') as f:\n",
    "        json.dump(data, f, ensure_ascii=False,indent=1)\n"
   ],
   "metadata": {
    "collapsed": false
   }
  },
  {
   "cell_type": "code",
   "execution_count": 29,
   "outputs": [],
   "source": [
    "def get_test_json():\n",
    "    # 判断json是否已经存在\n",
    "    if os.path.exists(test_json_path):\n",
    "        return\n",
    "\n",
    "    data = {\"labels\": symbols_dict} # 创建一个字典\n",
    "    # test数据集有两个：sample Ivanova\n",
    "\n",
    "    # get sample_list\n",
    "    wavs_path = [x for x in os.listdir(sample_path)]\n",
    "\n",
    "    y_data = pd.read_csv(sample_label_path, usecols=[0,4])\n",
    "    y_dict = y_data.set_index('adressfname').to_dict()['dx']\n",
    "\n",
    "    sample_list = [{\"path\": k, \"label\": y_dict[k[: -4]]} for k in wavs_path]\n",
    "\n",
    "    # get Ivanova_list\n",
    "    types = os.listdir(Ivanova_path)\n",
    "    Ivanova_list = []\n",
    "    for type in types:\n",
    "        type_files_path = os.path.join(Ivanova_path,type)\n",
    "        for file in os.listdir(type_files_path):\n",
    "            file_path = os.path.join(type, file)\n",
    "            file_label = type\n",
    "            Ivanova_list.append({\"path\": file_path, \"label\": file_label})\n",
    "\n",
    "    data['meta_data'] = sample_list + Ivanova_list\n",
    "    print(f\"test_data count = {len(data['meta_data'])}\")\n",
    "    with open(test_json_path, 'w') as f:\n",
    "        json.dump(data, f, ensure_ascii=False,indent=1)\n"
   ],
   "metadata": {
    "collapsed": false
   }
  },
  {
   "cell_type": "code",
   "execution_count": 30,
   "outputs": [
    {
     "name": "stdout",
     "output_type": "stream",
     "text": [
      "test_data count = 369\n"
     ]
    }
   ],
   "source": [
    "get_test_json()"
   ],
   "metadata": {
    "collapsed": false
   }
  },
  {
   "cell_type": "code",
   "execution_count": 31,
   "outputs": [
    {
     "name": "stdout",
     "output_type": "stream",
     "text": [
      "train_data count = 237\n"
     ]
    }
   ],
   "source": [
    "get_train_json()"
   ],
   "metadata": {
    "collapsed": false
   }
  },
  {
   "cell_type": "code",
   "execution_count": 21,
   "outputs": [],
   "source": [
    "# symbols_dict = {'MCI': -1, \"Control\": 0, \"ProbableAD\": 1}\n",
    "symbols_dict = {'Control':0, \"ProbableAD\": 1}\n",
    "def get_eng_spa_dict(country: str):\n",
    "    \"\"\" return a dictionary:  dict = { label: symbol_dict,\n",
    "                                       data: { {path:str, label:str}, {}, {} } } \"\"\"\n",
    "    data = {\"labels\": symbols_dict} # 创建一个字典\n",
    "    if country == \"English\":\n",
    "        file_path = Eng_path\n",
    "        label_path = Eng_labels_path\n",
    "        json_path = Eng_json_path\n",
    "    elif country == \"Spain\":\n",
    "        file_path = Spa_path\n",
    "        label_path = Spa_labels_path\n",
    "        json_path = Spa_json_path\n",
    "    else:\n",
    "        raise ValueError(f\"Unknown contry\")\n",
    "\n",
    "    # 判断json是否已经存在\n",
    "    if os.path.exists(json_path):\n",
    "        return\n",
    "\n",
    "    # get wavs_path\n",
    "    wavs_path = [x for x in os.listdir(file_path)]\n",
    "\n",
    "    y_data = pd.read_csv(label_path, usecols=[0,4])\n",
    "    y_dict = y_data.set_index('adressfname').to_dict()['dx']\n",
    "\n",
    "    data['meta_data'] = [{\"path\": k, \"label\": y_dict[k[: -4]]} for k in wavs_path]\n",
    "\n",
    "    with open(json_path, 'w') as f:\n",
    "        json.dump(data, f, ensure_ascii=False,indent=1)"
   ],
   "metadata": {
    "collapsed": false
   }
  },
  {
   "cell_type": "code",
   "execution_count": 23,
   "outputs": [],
   "source": [
    "get_eng_spa_dict(\"Spain\")\n",
    "get_eng_spa_dict(\"English\")"
   ],
   "metadata": {
    "collapsed": false
   }
  },
  {
   "cell_type": "code",
   "execution_count": 6,
   "outputs": [
    {
     "name": "stdout",
     "output_type": "stream",
     "text": [
      "./data/train ./data/English.json\n"
     ]
    }
   ],
   "source": [
    "A = IEMOCAPDataset(data_dir=Eng_path, meta_path= Eng_json_path)\n",
    "print(Eng_path, Eng_json_path)"
   ],
   "metadata": {
    "collapsed": false
   }
  },
  {
   "cell_type": "code",
   "execution_count": 7,
   "outputs": [
    {
     "name": "stdout",
     "output_type": "stream",
     "text": [
      "237\n",
      "(array([ 0.00036621,  0.0012207 ,  0.0020752 , ..., -0.00091553,\n",
      "       -0.00079346, -0.00112915], dtype=float32), 0, 'adrso002') (537217,)\n",
      "(array([0., 0., 0., ..., 0., 0., 0.], dtype=float32), 1, 'adrso027') (1319915,)\n"
     ]
    }
   ],
   "source": [
    "print(len(A))\n",
    "print(A[0], A[1][0].shape)\n",
    "print(A[24], A[24][0].shape)"
   ],
   "metadata": {
    "collapsed": false
   }
  },
  {
   "cell_type": "code",
   "execution_count": 14,
   "outputs": [
    {
     "name": "stdout",
     "output_type": "stream",
     "text": [
      "<class 'dict'>\n",
      "[Expert] - using the testing fold: \"fold1\". Ps. Use -o config.downstream_expert.datarc.test_fold=fold2 to change test_fold in config.\n",
      "[Expert] - Training path: data/English.json\n",
      "[Expert] - Testing path: data/Spanish.json\n"
     ]
    }
   ],
   "source": [
    "with open(yaml_path, \"r\") as f:\n",
    "    cfg = f.read()\n",
    "    config = yaml.load(cfg, Loader=yaml.SafeLoader)\n",
    "print(type(config['downstream_expert']))\n",
    "B = DownstreamExpert(upstream_dim=1, downstream_expert=config['downstream_expert'], expdir=\"./emotion\")"
   ],
   "metadata": {
    "collapsed": false
   }
  },
  {
   "cell_type": "code",
   "execution_count": 15,
   "outputs": [],
   "source": [
    "train_loader, dev_loader, test_loader = B.get_train_dataloader(), B.get_dev_dataloader(), B.get_test_dataloader()"
   ],
   "metadata": {
    "collapsed": false
   }
  },
  {
   "cell_type": "code",
   "execution_count": 18,
   "outputs": [
    {
     "data": {
      "text/plain": "(189, 48, 8)"
     },
     "execution_count": 18,
     "metadata": {},
     "output_type": "execute_result"
    }
   ],
   "source": [
    "len(train_loader.dataset), len(dev_loader.dataset), len(test_loader.dataset)"
   ],
   "metadata": {
    "collapsed": false
   }
  },
  {
   "cell_type": "code",
   "execution_count": 19,
   "outputs": [
    {
     "ename": "TypeError",
     "evalue": "forward() missing 5 required positional arguments: 'mode', 'features', 'labels', 'filenames', and 'records'",
     "output_type": "error",
     "traceback": [
      "\u001B[1;31m---------------------------------------------------------------------------\u001B[0m",
      "\u001B[1;31mTypeError\u001B[0m                                 Traceback (most recent call last)",
      "Cell \u001B[1;32mIn[19], line 1\u001B[0m\n\u001B[1;32m----> 1\u001B[0m \u001B[43mB\u001B[49m\u001B[38;5;241;43m.\u001B[39;49m\u001B[43mforward\u001B[49m\u001B[43m(\u001B[49m\u001B[43m)\u001B[49m\n",
      "\u001B[1;31mTypeError\u001B[0m: forward() missing 5 required positional arguments: 'mode', 'features', 'labels', 'filenames', and 'records'"
     ]
    }
   ],
   "source": [
    "B.forward()"
   ],
   "metadata": {
    "collapsed": false
   }
  }
 ],
 "metadata": {
  "kernelspec": {
   "display_name": "Python 3",
   "language": "python",
   "name": "python3"
  },
  "language_info": {
   "codemirror_mode": {
    "name": "ipython",
    "version": 2
   },
   "file_extension": ".py",
   "mimetype": "text/x-python",
   "name": "python",
   "nbconvert_exporter": "python",
   "pygments_lexer": "ipython2",
   "version": "2.7.6"
  }
 },
 "nbformat": 4,
 "nbformat_minor": 0
}
