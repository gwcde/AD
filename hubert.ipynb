{
 "cells": [
  {
   "cell_type": "code",
   "execution_count": 1,
   "metadata": {
    "collapsed": true
   },
   "outputs": [],
   "source": [
    "import s3prl\n",
    "import torch\n",
    "import numpy\n",
    "from pydub import AudioSegment\n",
    "import s3prl.hub as hub\n",
    "import os\n",
    "import torchaudio\n",
    "import torch.nn.functional as F\n",
    "import torch.nn as nn\n",
    "import numpy as np\n",
    "import random"
   ]
  },
  {
   "cell_type": "code",
   "execution_count": 2,
   "outputs": [],
   "source": [
    "class config:\n",
    "    seed = 2083\n",
    "    epoch = 15\n",
    "    learning_rate = 1e-4"
   ],
   "metadata": {
    "collapsed": false
   }
  },
  {
   "cell_type": "code",
   "execution_count": 3,
   "outputs": [],
   "source": [
    "def seed_everything(seed):\n",
    "    random.seed(seed)\n",
    "    np.random.seed(seed)\n",
    "    torch.manual_seed(seed)\n",
    "    torch.cuda.manual_seed(seed)\n",
    "    torch.backends.cudnn.deterministic = True\n",
    "\n",
    "seed_everything(config.seed)"
   ],
   "metadata": {
    "collapsed": false
   }
  },
  {
   "cell_type": "markdown",
   "source": [
    "## 检查训练数据声道"
   ],
   "metadata": {
    "collapsed": false
   }
  },
  {
   "cell_type": "code",
   "execution_count": 4,
   "outputs": [],
   "source": [
    "def view_channels(path : str):\n",
    "    \"\"\" 检查path路径下音频文件的声道数\"\"\"\n",
    "    if not os.path.exists(path):\n",
    "        return -1, 0, 0\n",
    "    files = os.listdir(path)\n",
    "    count_1, count_2 = 0, 0\n",
    "    sample_rates = set()\n",
    "    for file in files:\n",
    "        file_path = os.path.join(path, file)\n",
    "        wav, sample_rate = torchaudio.load(file_path)\n",
    "        if wav.shape[0] == 1:\n",
    "            count_1 += 1\n",
    "        if wav.shape[0] == 2:\n",
    "            count_2 += 1\n",
    "        # if sample_rate == 8000:\n",
    "            # print(file_path)\n",
    "        if sample_rate not in sample_rates:\n",
    "            sample_rates.add(sample_rate)\n",
    "\n",
    "    print(f\"{path}中共计{len(files)}个文件，其中单声道文件数目为{count_1}, 双声道文件数目为{count_2}, 采样率为{sample_rates}\")\n",
    "    return len(files), count_1, count_2"
   ],
   "metadata": {
    "collapsed": false
   }
  },
  {
   "cell_type": "markdown",
   "source": [
    "## 双声道转单声道, 统一采样率"
   ],
   "metadata": {
    "collapsed": false
   }
  },
  {
   "cell_type": "code",
   "execution_count": 5,
   "outputs": [],
   "source": [
    "def stereo_to_mono(source_path: str, output_path: str):\n",
    "    \"\"\"将双声道音频转换为单声道音频\"\"\"\n",
    "    for file in os.listdir(source_path):\n",
    "        file_path = os.path.join(source_path, file)\n",
    "\n",
    "        sound = AudioSegment.from_mp3(file_path)\n",
    "        sound = sound.set_channels(1)\n",
    "        sound = sound.set_frame_rate(16000)\n",
    "\n",
    "        output = os.path.join(output_path, file)[:-3] + \"wav\"\n",
    "        try:\n",
    "            sound.export(output, format=\"wav\")\n",
    "        except FileNotFoundError:\n",
    "            os.makedirs(output_path)\n",
    "            sound.export(output, format=\"wav\")\n",
    "        # print(file_path, output)"
   ],
   "metadata": {
    "collapsed": false
   }
  },
  {
   "cell_type": "code",
   "execution_count": 6,
   "outputs": [
    {
     "name": "stdout",
     "output_type": "stream",
     "text": [
      "./Data/train中共计237个文件，其中单声道文件数目为237, 双声道文件数目为0, 采样率为{16000}\n",
      "./Data/sample中共计8个文件，其中单声道文件数目为8, 双声道文件数目为0, 采样率为{16000}\n"
     ]
    }
   ],
   "source": [
    "# 转换训练数据\n",
    "c, a, b = view_channels(path=\"./Data/train\")\n",
    "if a != c:\n",
    "    stereo_to_mono(source_path=\"./MADReSS-23-train/train\", output_path=\"./Data/train\")\n",
    "# 转换样例数据\n",
    "c, a, b = view_channels(path=\"./Data/sample\")\n",
    "if a!= c:\n",
    "    stereo_to_mono(source_path=\"./MADReSS-23-train/sample\", output_path=\"./Data/sample\")"
   ],
   "metadata": {
    "collapsed": false
   }
  },
  {
   "cell_type": "markdown",
   "source": [
    "## 检查对应的时长是否发生改变"
   ],
   "metadata": {
    "collapsed": false
   }
  },
  {
   "cell_type": "code",
   "execution_count": 5,
   "outputs": [],
   "source": [
    "def check_duration(path1 : str, path2 : str):\n",
    "    \"\"\"检查两个对应的文件时长是否一致\"\"\"\n",
    "    files1 = os.listdir(path1)\n",
    "    files2 = os.listdir(path2)\n",
    "    count = 0\n",
    "    for i in range(len(files1)):\n",
    "        file1, file2 = os.path.join(path1, files1[i]), os.path.join(path2, files2[i])\n",
    "\n",
    "        wav1, sample_rate1 = torchaudio.load(file1)\n",
    "        wav2, sample_rate2 = torchaudio.load(file2)\n",
    "\n",
    "        if (wav1.shape[1]/sample_rate1 > 180) or (wav2.shape[1]/sample_rate2) > 180:\n",
    "            count += 1\n",
    "        if wav1.shape[1]/sample_rate1 != wav2.shape[1]/sample_rate2:\n",
    "            print(file1, file2, wav1.shape, wav2.shape, sample_rate1, sample_rate2, wav1.shape[1]/sample_rate1, wav2.shape[1]/sample_rate2)\n",
    "\n",
    "    print(count)\n"
   ],
   "metadata": {
    "collapsed": false
   }
  },
  {
   "cell_type": "code",
   "execution_count": 6,
   "outputs": [
    {
     "name": "stdout",
     "output_type": "stream",
     "text": [
      "./MADReSS-23-train/train\\adrso002.mp3 ./Data/train\\adrso002.wav torch.Size([2, 3440640]) torch.Size([1, 1248305]) 44100 16000 78.01904761904763 78.0190625\n",
      "./MADReSS-23-train/train\\adrso003.mp3 ./Data/train\\adrso003.wav torch.Size([2, 1480704]) torch.Size([1, 537217]) 44100 16000 33.57605442176871 33.5760625\n",
      "./MADReSS-23-train/train\\adrso004.mp3 ./Data/train\\adrso004.wav torch.Size([2, 983040]) torch.Size([1, 356659]) 44100 16000 22.291156462585032 22.2911875\n",
      "./MADReSS-23-train/train\\adrso005.mp3 ./Data/train\\adrso005.wav torch.Size([2, 2721792]) torch.Size([1, 987498]) 44100 16000 61.718639455782316 61.718625\n",
      "./MADReSS-23-train/train\\adrso006.mp3 ./Data/train\\adrso006.wav torch.Size([2, 1801216]) torch.Size([1, 653503]) 44100 16000 40.84390022675737 40.8439375\n",
      "./MADReSS-23-train/train\\adrso007.mp3 ./Data/train\\adrso007.wav torch.Size([2, 1150976]) torch.Size([1, 417588]) 44100 16000 26.09922902494331 26.09925\n",
      "./MADReSS-23-train/train\\adrso008.mp3 ./Data/train\\adrso008.wav torch.Size([2, 2243584]) torch.Size([1, 813999]) 44100 16000 50.874920634920635 50.8749375\n",
      "./MADReSS-23-train/train\\adrso009.mp3 ./Data/train\\adrso009.wav torch.Size([2, 1600512]) torch.Size([1, 580685]) 44100 16000 36.29278911564626 36.2928125\n",
      "./MADReSS-23-train/train\\adrso010.mp3 ./Data/train\\adrso010.wav torch.Size([2, 1002496]) torch.Size([1, 363718]) 44100 16000 22.732335600907028 22.732375\n",
      "./MADReSS-23-train/train\\adrso011.mp3 ./Data/train\\adrso011.wav torch.Size([2, 1546240]) torch.Size([1, 560994]) 44100 16000 35.062131519274374 35.062125\n",
      "./MADReSS-23-train/train\\adrso012.mp3 ./Data/train\\adrso012.wav torch.Size([2, 2987008]) torch.Size([1, 1083722]) 44100 16000 67.73260770975057 67.732625\n",
      "./MADReSS-23-train/train\\adrso013.mp3 ./Data/train\\adrso013.wav torch.Size([2, 1061888]) torch.Size([1, 385266]) 44100 16000 24.079092970521543 24.079125\n",
      "./MADReSS-23-train/train\\adrso014.mp3 ./Data/train\\adrso014.wav torch.Size([2, 2957312]) torch.Size([1, 1072948]) 44100 16000 67.0592290249433 67.05925\n",
      "./MADReSS-23-train/train\\adrso015.mp3 ./Data/train\\adrso015.wav torch.Size([2, 3425291]) torch.Size([1, 1242736]) 44100 16000 77.6709977324263 77.671\n",
      "./MADReSS-23-train/train\\adrso016.mp3 ./Data/train\\adrso016.wav torch.Size([2, 1785918]) torch.Size([1, 647952]) 44100 16000 40.49700680272109 40.497\n",
      "./MADReSS-23-train/train\\adrso017.mp3 ./Data/train\\adrso017.wav torch.Size([2, 3173039]) torch.Size([1, 1151216]) 44100 16000 71.9509977324263 71.951\n",
      "./MADReSS-23-train/train\\adrso024.mp3 ./Data/train\\adrso024.wav torch.Size([2, 10400391]) torch.Size([1, 3773754]) 44100 16000 235.8365306122449 235.859625\n",
      "./MADReSS-23-train/train\\adrso025.mp3 ./Data/train\\adrso025.wav torch.Size([2, 8429511]) torch.Size([1, 3058625]) 44100 16000 191.14537414965986 191.1640625\n",
      "./MADReSS-23-train/train\\adrso027.mp3 ./Data/train\\adrso027.wav torch.Size([2, 3637660]) torch.Size([1, 1319915]) 44100 16000 82.48662131519275 82.4946875\n",
      "./MADReSS-23-train/train\\adrso028.mp3 ./Data/train\\adrso028.wav torch.Size([2, 2743796]) torch.Size([1, 995579]) 44100 16000 62.21759637188209 62.2236875\n",
      "./MADReSS-23-train/train\\adrso029.mp3 ./Data/train\\adrso029.wav torch.Size([2, 5806664]) torch.Size([1, 2106932]) 44100 16000 131.67038548752834 131.68325\n",
      "./MADReSS-23-train/train\\adrso031.mp3 ./Data/train\\adrso031.wav torch.Size([2, 3580065]) torch.Size([1, 1299017]) 44100 16000 81.18061224489796 81.1885625\n",
      "./MADReSS-23-train/train\\adrso032.mp3 ./Data/train\\adrso032.wav torch.Size([2, 3608863]) torch.Size([1, 1309466]) 44100 16000 81.83362811791383 81.841625\n",
      "./MADReSS-23-train/train\\adrso033.mp3 ./Data/train\\adrso033.wav torch.Size([2, 3538599]) torch.Size([1, 1283971]) 44100 16000 80.24034013605443 80.2481875\n",
      "./MADReSS-23-train/train\\adrso035.mp3 ./Data/train\\adrso035.wav torch.Size([2, 3395765]) torch.Size([1, 1232144]) 44100 16000 77.00147392290249 77.009\n",
      "./MADReSS-23-train/train\\adrso036.mp3 ./Data/train\\adrso036.wav torch.Size([2, 1829196]) torch.Size([1, 663719]) 44100 16000 41.478367346938775 41.4824375\n",
      "./MADReSS-23-train/train\\adrso037.mp3 ./Data/train\\adrso037.wav torch.Size([2, 6376849]) torch.Size([1, 2313822]) 44100 16000 144.59975056689342 144.613875\n",
      "./MADReSS-23-train/train\\adrso038.mp3 ./Data/train\\adrso038.wav torch.Size([2, 2178219]) torch.Size([1, 790361]) 44100 16000 49.39272108843537 49.3975625\n",
      "./MADReSS-23-train/train\\adrso039.mp3 ./Data/train\\adrso039.wav torch.Size([2, 3150411]) torch.Size([1, 1143119]) 44100 16000 71.43789115646258 71.4449375\n",
      "./MADReSS-23-train/train\\adrso041.mp3 ./Data/train\\adrso041.wav torch.Size([2, 3302461]) torch.Size([1, 1198289]) 44100 16000 74.88573696145124 74.8930625\n",
      "./MADReSS-23-train/train\\adrso042.mp3 ./Data/train\\adrso042.wav torch.Size([2, 1815375]) torch.Size([1, 658704]) 44100 16000 41.164965986394556 41.169\n",
      "./MADReSS-23-train/train\\adrso043.mp3 ./Data/train\\adrso043.wav torch.Size([2, 5593566]) torch.Size([1, 2029610]) 44100 16000 126.83823129251701 126.850625\n",
      "./MADReSS-23-train/train\\adrso044.mp3 ./Data/train\\adrso044.wav torch.Size([2, 5144330]) torch.Size([1, 1866606]) 44100 16000 116.6514739229025 116.662875\n",
      "./MADReSS-23-train/train\\adrso045.mp3 ./Data/train\\adrso045.wav torch.Size([2, 9679310]) torch.Size([1, 3512111]) 44100 16000 219.48548752834466 219.5069375\n",
      "./MADReSS-23-train/train\\adrso046.mp3 ./Data/train\\adrso046.wav torch.Size([2, 4467020]) torch.Size([1, 1620846]) 44100 16000 101.29297052154195 101.302875\n",
      "./MADReSS-23-train/train\\adrso047.mp3 ./Data/train\\adrso047.wav torch.Size([2, 2659708]) torch.Size([1, 965068]) 44100 16000 60.31083900226757 60.31675\n",
      "./MADReSS-23-train/train\\adrso049.mp3 ./Data/train\\adrso049.wav torch.Size([2, 7214270]) torch.Size([1, 2617679]) 44100 16000 163.5888888888889 163.6049375\n",
      "./MADReSS-23-train/train\\adrso052.mp3 ./Data/train\\adrso052.wav torch.Size([2, 5557857]) torch.Size([1, 2016653]) 44100 16000 126.02850340136054 126.0408125\n",
      "./MADReSS-23-train/train\\adrso053.mp3 ./Data/train\\adrso053.wav torch.Size([2, 8242907]) torch.Size([1, 2990916]) 44100 16000 186.91399092970522 186.93225\n",
      "./MADReSS-23-train/train\\adrso054.mp3 ./Data/train\\adrso054.wav torch.Size([2, 6955098]) torch.Size([1, 2523638]) 44100 16000 157.71197278911563 157.727375\n",
      "./MADReSS-23-train/train\\adrso055.mp3 ./Data/train\\adrso055.wav torch.Size([2, 4367956]) torch.Size([1, 1584901]) 44100 16000 99.04662131519274 99.0563125\n",
      "./MADReSS-23-train/train\\adrso056.mp3 ./Data/train\\adrso056.wav torch.Size([2, 11839098]) torch.Size([1, 4295785]) 44100 16000 268.4602721088435 268.4865625\n",
      "./MADReSS-23-train/train\\adrso059.mp3 ./Data/train\\adrso059.wav torch.Size([2, 2026169]) torch.Size([1, 735190]) 44100 16000 45.94487528344671 45.949375\n",
      "./MADReSS-23-train/train\\adrso060.mp3 ./Data/train\\adrso060.wav torch.Size([2, 2670074]) torch.Size([1, 968830]) 44100 16000 60.54589569160998 60.551875\n",
      "./MADReSS-23-train/train\\adrso062.mp3 ./Data/train\\adrso062.wav torch.Size([2, 3635356]) torch.Size([1, 1319079]) 44100 16000 82.43437641723357 82.4424375\n",
      "./MADReSS-23-train/train\\adrso063.mp3 ./Data/train\\adrso063.wav torch.Size([2, 2279584]) torch.Size([1, 827141]) 44100 16000 51.69124716553288 51.6963125\n",
      "./MADReSS-23-train/train\\adrso064.mp3 ./Data/train\\adrso064.wav torch.Size([2, 4704307]) torch.Size([1, 1706945]) 44100 16000 106.67362811791384 106.6840625\n",
      "./MADReSS-23-train/train\\adrso065.mp3 ./Data/train\\adrso065.wav torch.Size([2, 5683414]) torch.Size([1, 2062211]) 44100 16000 128.87560090702948 128.8881875\n",
      "./MADReSS-23-train/train\\adrso066.mp3 ./Data/train\\adrso066.wav torch.Size([2, 2281888]) torch.Size([1, 827977]) 44100 16000 51.74349206349206 51.7485625\n",
      "./MADReSS-23-train/train\\adrso068.mp3 ./Data/train\\adrso068.wav torch.Size([2, 2258851]) torch.Size([1, 819618]) 44100 16000 51.221111111111114 51.226125\n",
      "./MADReSS-23-train/train\\adrso070.mp3 ./Data/train\\adrso070.wav torch.Size([2, 2905060]) torch.Size([1, 1054093]) 44100 16000 65.87437641723356 65.8808125\n",
      "./MADReSS-23-train/train\\adrso071.mp3 ./Data/train\\adrso071.wav torch.Size([2, 2767985]) torch.Size([1, 1004356]) 44100 16000 62.76609977324263 62.77225\n",
      "./MADReSS-23-train/train\\adrso072.mp3 ./Data/train\\adrso072.wav torch.Size([2, 1829196]) torch.Size([1, 663719]) 44100 16000 41.478367346938775 41.4824375\n",
      "./MADReSS-23-train/train\\adrso074.mp3 ./Data/train\\adrso074.wav torch.Size([2, 0]) torch.Size([1, 1215359]) 8000 16000 0.0 75.9599375\n",
      "./MADReSS-23-train/train\\adrso075.mp3 ./Data/train\\adrso075.wav torch.Size([1, 1784274]) torch.Size([1, 647419]) 44100 16000 40.45972789115646 40.4636875\n",
      "./MADReSS-23-train/train\\adrso077.mp3 ./Data/train\\adrso077.wav torch.Size([2, 2294560]) torch.Size([1, 832575]) 44100 16000 52.03083900226758 52.0359375\n",
      "./MADReSS-23-train/train\\adrso078.mp3 ./Data/train\\adrso078.wav torch.Size([2, 6001332]) torch.Size([1, 2177567]) 44100 16000 136.08462585034013 136.0979375\n",
      "./MADReSS-23-train/train\\adrso083.mp3 ./Data/train\\adrso083.wav torch.Size([2, 0]) torch.Size([1, 1212918]) 44100 16000 0.0 75.807375\n",
      "./MADReSS-23-train/train\\adrso088.mp3 ./Data/train\\adrso088.wav torch.Size([2, 4129517]) torch.Size([1, 1498384]) 44100 16000 93.63984126984127 93.649\n",
      "./MADReSS-23-train/train\\adrso089.mp3 ./Data/train\\adrso089.wav torch.Size([2, 2087220]) torch.Size([1, 757342]) 44100 16000 47.329251700680274 47.333875\n",
      "./MADReSS-23-train/train\\adrso090.mp3 ./Data/train\\adrso090.wav torch.Size([2, 3897987]) torch.Size([1, 1414374]) 44100 16000 88.38972789115647 88.398375\n",
      "./MADReSS-23-train/train\\adrso092.mp3 ./Data/train\\adrso092.wav torch.Size([2, 1760085]) torch.Size([1, 638642]) 44100 16000 39.91122448979592 39.915125\n",
      "./MADReSS-23-train/train\\adrso093.mp3 ./Data/train\\adrso093.wav torch.Size([2, 3098576]) torch.Size([1, 1124310]) 44100 16000 70.26249433106575 70.269375\n",
      "./MADReSS-23-train/train\\adrso098.mp3 ./Data/train\\adrso098.wav torch.Size([2, 0]) torch.Size([1, 1316735]) 8000 16000 0.0 82.2959375\n",
      "./MADReSS-23-train/train\\adrso099.mp3 ./Data/train\\adrso099.wav torch.Size([2, 2552583]) torch.Size([1, 926198]) 44100 16000 57.88170068027211 57.887375\n",
      "./MADReSS-23-train/train\\adrso106.mp3 ./Data/train\\adrso106.wav torch.Size([2, 3590433]) torch.Size([1, 1302779]) 44100 16000 81.41571428571429 81.4236875\n",
      "./MADReSS-23-train/train\\adrso108.mp3 ./Data/train\\adrso108.wav torch.Size([2, 2933857]) torch.Size([1, 1064542]) 44100 16000 66.52736961451247 66.533875\n",
      "./MADReSS-23-train/train\\adrso109.mp3 ./Data/train\\adrso109.wav torch.Size([2, 4128365]) torch.Size([1, 1497966]) 44100 16000 93.61371882086168 93.622875\n",
      "./MADReSS-23-train/train\\adrso110.mp3 ./Data/train\\adrso110.wav torch.Size([2, 3540903]) torch.Size([1, 1284807]) 44100 16000 80.29258503401361 80.3004375\n",
      "./MADReSS-23-train/train\\adrso112.mp3 ./Data/train\\adrso112.wav torch.Size([2, 2542215]) torch.Size([1, 922436]) 44100 16000 57.64659863945578 57.65225\n",
      "./MADReSS-23-train/train\\adrso113.mp3 ./Data/train\\adrso113.wav torch.Size([2, 1640288]) torch.Size([1, 595174]) 44100 16000 37.19473922902495 37.198375\n",
      "./MADReSS-23-train/train\\adrso116.mp3 ./Data/train\\adrso116.wav torch.Size([2, 5156999]) torch.Size([1, 1871203]) 44100 16000 116.93875283446712 116.9501875\n",
      "./MADReSS-23-train/train\\adrso117.mp3 ./Data/train\\adrso117.wav torch.Size([2, 2924641]) torch.Size([1, 1061199]) 44100 16000 66.31839002267574 66.3249375\n",
      "./MADReSS-23-train/train\\adrso118.mp3 ./Data/train\\adrso118.wav torch.Size([2, 1252102]) torch.Size([1, 454322]) 44100 16000 28.39233560090703 28.395125\n",
      "./MADReSS-23-train/train\\adrso121.mp3 ./Data/train\\adrso121.wav torch.Size([2, 4145642]) torch.Size([1, 1504235]) 44100 16000 94.00548752834467 94.0146875\n",
      "./MADReSS-23-train/train\\adrso122.mp3 ./Data/train\\adrso122.wav torch.Size([2, 2423570]) torch.Size([1, 879386]) 44100 16000 54.9562358276644 54.961625\n",
      "./MADReSS-23-train/train\\adrso123.mp3 ./Data/train\\adrso123.wav torch.Size([2, 2873958]) torch.Size([1, 1042808]) 44100 16000 65.1691156462585 65.1755\n",
      "./MADReSS-23-train/train\\adrso124.mp3 ./Data/train\\adrso124.wav torch.Size([2, 1280899]) torch.Size([1, 464771]) 44100 16000 29.045328798185942 29.0481875\n",
      "./MADReSS-23-train/train\\adrso125.mp3 ./Data/train\\adrso125.wav torch.Size([2, 2359064]) torch.Size([1, 855981]) 44100 16000 53.49351473922903 53.4988125\n",
      "./MADReSS-23-train/train\\adrso126.mp3 ./Data/train\\adrso126.wav torch.Size([2, 2455824]) torch.Size([1, 891089]) 44100 16000 55.687619047619044 55.6930625\n",
      "./MADReSS-23-train/train\\adrso128.mp3 ./Data/train\\adrso128.wav torch.Size([2, 4263135]) torch.Size([1, 1546867]) 44100 16000 96.66972789115647 96.6791875\n",
      "./MADReSS-23-train/train\\adrso130.mp3 ./Data/train\\adrso130.wav torch.Size([2, 1555048]) torch.Size([1, 564245]) 44100 16000 35.26185941043084 35.2653125\n",
      "./MADReSS-23-train/train\\adrso132.mp3 ./Data/train\\adrso132.wav torch.Size([2, 1255558]) torch.Size([1, 455576]) 44100 16000 28.470702947845805 28.4735\n",
      "./MADReSS-23-train/train\\adrso134.mp3 ./Data/train\\adrso134.wav torch.Size([2, 1931716]) torch.Size([1, 700918]) 44100 16000 43.80308390022676 43.807375\n",
      "./MADReSS-23-train/train\\adrso135.mp3 ./Data/train\\adrso135.wav torch.Size([2, 1270531]) torch.Size([1, 461009]) 44100 16000 28.810226757369616 28.8130625\n",
      "./MADReSS-23-train/train\\adrso138.mp3 ./Data/train\\adrso138.wav torch.Size([2, 3082451]) torch.Size([1, 1118459]) 44100 16000 69.89684807256236 69.9036875\n",
      "./MADReSS-23-train/train\\adrso140.mp3 ./Data/train\\adrso140.wav torch.Size([2, 4729648]) torch.Size([1, 1716141]) 44100 16000 107.24825396825396 107.2588125\n",
      "./MADReSS-23-train/train\\adrso141.mp3 ./Data/train\\adrso141.wav torch.Size([2, 1829196]) torch.Size([1, 663719]) 44100 16000 41.478367346938775 41.4824375\n",
      "./MADReSS-23-train/train\\adrso142.mp3 ./Data/train\\adrso142.wav torch.Size([2, 1572325]) torch.Size([1, 570514]) 44100 16000 35.65362811791383 35.657125\n",
      "./MADReSS-23-train/train\\adrso144.mp3 ./Data/train\\adrso144.wav torch.Size([2, 3366968]) torch.Size([1, 1221695]) 44100 16000 76.34848072562359 76.3559375\n",
      "./MADReSS-23-train/train\\adrso148.mp3 ./Data/train\\adrso148.wav torch.Size([2, 4433615]) torch.Size([1, 1608725]) 44100 16000 100.53548752834467 100.5453125\n",
      "./MADReSS-23-train/train\\adrso149.mp3 ./Data/train\\adrso149.wav torch.Size([2, 3152715]) torch.Size([1, 1143954]) 44100 16000 71.49013605442177 71.497125\n",
      "./MADReSS-23-train/train\\adrso150.mp3 ./Data/train\\adrso150.wav torch.Size([1, 4067315]) torch.Size([1, 1475814]) 44100 16000 92.22936507936508 92.238375\n",
      "./MADReSS-23-train/train\\adrso151.mp3 ./Data/train\\adrso151.wav torch.Size([2, 2683898]) torch.Size([1, 973845]) 44100 16000 60.85936507936508 60.8653125\n",
      "./MADReSS-23-train/train\\adrso152.mp3 ./Data/train\\adrso152.wav torch.Size([2, 2909668]) torch.Size([1, 1055765]) 44100 16000 65.97886621315193 65.9853125\n",
      "./MADReSS-23-train/train\\adrso153.mp3 ./Data/train\\adrso153.wav torch.Size([2, 4730800]) torch.Size([1, 1716559]) 44100 16000 107.27437641723355 107.2849375\n",
      "./MADReSS-23-train/train\\adrso154.mp3 ./Data/train\\adrso154.wav torch.Size([2, 2384408]) torch.Size([1, 865176]) 44100 16000 54.06820861678005 54.0735\n",
      "./MADReSS-23-train/train\\adrso155.mp3 ./Data/train\\adrso155.wav torch.Size([2, 2726516]) torch.Size([1, 989310]) 44100 16000 61.825759637188206 61.831875\n",
      "./MADReSS-23-train/train\\adrso156.mp3 ./Data/train\\adrso156.wav torch.Size([2, 3008729]) torch.Size([1, 1091710]) 44100 16000 68.22514739229025 68.231875\n",
      "./MADReSS-23-train/train\\adrso157.mp3 ./Data/train\\adrso157.wav torch.Size([2, 3143502]) torch.Size([1, 1140611]) 44100 16000 71.28122448979592 71.2881875\n",
      "./MADReSS-23-train/train\\adrso158.mp3 ./Data/train\\adrso158.wav torch.Size([2, 2999515]) torch.Size([1, 1088366]) 44100 16000 68.01621315192743 68.022875\n",
      "./MADReSS-23-train/train\\adrso159.mp3 ./Data/train\\adrso159.wav torch.Size([2, 2255395]) torch.Size([1, 818364]) 44100 16000 51.14274376417234 51.14775\n",
      "./MADReSS-23-train/train\\adrso160.mp3 ./Data/train\\adrso160.wav torch.Size([2, 2148270]) torch.Size([1, 779494]) 44100 16000 48.71360544217687 48.718375\n",
      "./MADReSS-23-train/train\\adrso161.mp3 ./Data/train\\adrso161.wav torch.Size([2, 1467504]) torch.Size([1, 532480]) 44100 16000 33.27673469387755 33.28\n",
      "./MADReSS-23-train/train\\adrso162.mp3 ./Data/train\\adrso162.wav torch.Size([2, 3121614]) torch.Size([1, 1132670]) 44100 16000 70.78489795918367 70.791875\n",
      "./MADReSS-23-train/train\\adrso164.mp3 ./Data/train\\adrso164.wav torch.Size([2, 5071759]) torch.Size([1, 1840274]) 44100 16000 115.00587301587302 115.017125\n",
      "./MADReSS-23-train/train\\adrso165.mp3 ./Data/train\\adrso165.wav torch.Size([2, 2580229]) torch.Size([1, 936229]) 44100 16000 58.50859410430839 58.5143125\n",
      "./MADReSS-23-train/train\\adrso166.mp3 ./Data/train\\adrso166.wav torch.Size([2, 2861289]) torch.Size([1, 1038211]) 44100 16000 64.88183673469388 64.8881875\n",
      "./MADReSS-23-train/train\\adrso167.mp3 ./Data/train\\adrso167.wav torch.Size([2, 3930240]) torch.Size([1, 1426077]) 44100 16000 89.12108843537415 89.1298125\n",
      "./MADReSS-23-train/train\\adrso168.mp3 ./Data/train\\adrso168.wav torch.Size([2, 4091504]) torch.Size([1, 1484591]) 44100 16000 92.77786848072563 92.7869375\n",
      "./MADReSS-23-train/train\\adrso169.mp3 ./Data/train\\adrso169.wav torch.Size([2, 1799247]) torch.Size([1, 652852]) 44100 16000 40.79925170068027 40.80325\n",
      "./MADReSS-23-train/train\\adrso170.mp3 ./Data/train\\adrso170.wav torch.Size([2, 1910980]) torch.Size([1, 693394]) 44100 16000 43.3328798185941 43.337125\n",
      "./MADReSS-23-train/train\\adrso171.mp3 ./Data/train\\adrso171.wav torch.Size([2, 2140206]) torch.Size([1, 776568]) 44100 16000 48.530748299319725 48.5355\n",
      "./MADReSS-23-train/train\\adrso172.mp3 ./Data/train\\adrso172.wav torch.Size([2, 4331098]) torch.Size([1, 1571527]) 44100 16000 98.21083900226758 98.2204375\n",
      "./MADReSS-23-train/train\\adrso173.mp3 ./Data/train\\adrso173.wav torch.Size([2, 3417650]) torch.Size([1, 1240085]) 44100 16000 77.49773242630386 77.5053125\n",
      "./MADReSS-23-train/train\\adrso177.mp3 ./Data/train\\adrso177.wav torch.Size([2, 3467181]) torch.Size([1, 1258057]) 44100 16000 78.6208843537415 78.6285625\n",
      "./MADReSS-23-train/train\\adrso178.mp3 ./Data/train\\adrso178.wav torch.Size([2, 2292256]) torch.Size([1, 831739]) 44100 16000 51.97859410430839 51.9836875\n",
      "./MADReSS-23-train/train\\adrso179.mp3 ./Data/train\\adrso179.wav torch.Size([2, 1551592]) torch.Size([1, 562991]) 44100 16000 35.18349206349206 35.1869375\n",
      "./MADReSS-23-train/train\\adrso180.mp3 ./Data/train\\adrso180.wav torch.Size([2, 2607874]) torch.Size([1, 946260]) 44100 16000 59.13546485260771 59.14125\n",
      "./MADReSS-23-train/train\\adrso181.mp3 ./Data/train\\adrso181.wav torch.Size([2, 2653948]) torch.Size([1, 962978]) 44100 16000 60.18022675736962 60.186125\n",
      "./MADReSS-23-train/train\\adrso182.mp3 ./Data/train\\adrso182.wav torch.Size([2, 3687190]) torch.Size([1, 1337887]) 44100 16000 83.60975056689342 83.6179375\n",
      "./MADReSS-23-train/train\\adrso183.mp3 ./Data/train\\adrso183.wav torch.Size([2, 4469324]) torch.Size([1, 1621682]) 44100 16000 101.34521541950113 101.355125\n",
      "./MADReSS-23-train/train\\adrso184.mp3 ./Data/train\\adrso184.wav torch.Size([2, 3243715]) torch.Size([1, 1176973]) 44100 16000 73.55362811791383 73.5608125\n",
      "./MADReSS-23-train/train\\adrso185.mp3 ./Data/train\\adrso185.wav torch.Size([2, 2347547]) torch.Size([1, 851801]) 44100 16000 53.23235827664399 53.2375625\n",
      "./MADReSS-23-train/train\\adrso186.mp3 ./Data/train\\adrso186.wav torch.Size([2, 1852234]) torch.Size([1, 672079]) 44100 16000 42.00077097505669 42.0049375\n",
      "./MADReSS-23-train/train\\adrso187.mp3 ./Data/train\\adrso187.wav torch.Size([2, 3584673]) torch.Size([1, 1300689]) 44100 16000 81.28510204081633 81.2930625\n",
      "./MADReSS-23-train/train\\adrso188.mp3 ./Data/train\\adrso188.wav torch.Size([2, 3651484]) torch.Size([1, 1324931]) 44100 16000 82.80009070294784 82.8081875\n",
      "./MADReSS-23-train/train\\adrso189.mp3 ./Data/train\\adrso189.wav torch.Size([2, 2405141]) torch.Size([1, 872699]) 44100 16000 54.53834467120181 54.5436875\n",
      "./MADReSS-23-train/train\\adrso190.mp3 ./Data/train\\adrso190.wav torch.Size([2, 4945053]) torch.Size([1, 1794299]) 44100 16000 112.13272108843537 112.1436875\n",
      "./MADReSS-23-train/train\\adrso192.mp3 ./Data/train\\adrso192.wav torch.Size([2, 5018773]) torch.Size([1, 1821048]) 44100 16000 113.80437641723356 113.8155\n",
      "./MADReSS-23-train/train\\adrso194.mp3 ./Data/train\\adrso194.wav torch.Size([2, 5941434]) torch.Size([1, 2155834]) 44100 16000 134.72639455782314 134.739625\n",
      "./MADReSS-23-train/train\\adrso197.mp3 ./Data/train\\adrso197.wav torch.Size([2, 3471789]) torch.Size([1, 1259729]) 44100 16000 78.72537414965987 78.7330625\n",
      "./MADReSS-23-train/train\\adrso198.mp3 ./Data/train\\adrso198.wav torch.Size([2, 5584350]) torch.Size([1, 2026266]) 44100 16000 126.62925170068027 126.641625\n",
      "./MADReSS-23-train/train\\adrso199.mp3 ./Data/train\\adrso199.wav torch.Size([2, 3095120]) torch.Size([1, 1123056]) 44100 16000 70.18412698412699 70.191\n",
      "./MADReSS-23-train/train\\adrso200.mp3 ./Data/train\\adrso200.wav torch.Size([2, 6149927]) torch.Size([1, 2231484]) 44100 16000 139.454126984127 139.46775\n",
      "./MADReSS-23-train/train\\adrso202.mp3 ./Data/train\\adrso202.wav torch.Size([2, 4786091]) torch.Size([1, 1736621]) 44100 16000 108.52814058956916 108.5388125\n",
      "./MADReSS-23-train/train\\adrso205.mp3 ./Data/train\\adrso205.wav torch.Size([2, 3290941]) torch.Size([1, 1194110]) 44100 16000 74.62451247165532 74.631875\n",
      "./MADReSS-23-train/train\\adrso206.mp3 ./Data/train\\adrso206.wav torch.Size([2, 3835785]) torch.Size([1, 1391804]) 44100 16000 86.97925170068027 86.98775\n",
      "./MADReSS-23-train/train\\adrso209.mp3 ./Data/train\\adrso209.wav torch.Size([2, 6210977]) torch.Size([1, 2253636]) 44100 16000 140.83848072562358 140.85225\n",
      "./MADReSS-23-train/train\\adrso210.mp3 ./Data/train\\adrso210.wav torch.Size([2, 2694266]) torch.Size([1, 977607]) 44100 16000 61.094467120181406 61.1004375\n",
      "./MADReSS-23-train/train\\adrso211.mp3 ./Data/train\\adrso211.wav torch.Size([2, 3096272]) torch.Size([1, 1123474]) 44100 16000 70.21024943310658 70.217125\n",
      "./MADReSS-23-train/train\\adrso212.mp3 ./Data/train\\adrso212.wav torch.Size([2, 5015317]) torch.Size([1, 1819794]) 44100 16000 113.72600907029478 113.737125\n",
      "./MADReSS-23-train/train\\adrso214.mp3 ./Data/train\\adrso214.wav torch.Size([2, 2262915]) torch.Size([1, 821012]) 44100 16000 51.313265306122446 51.31325\n",
      "./MADReSS-23-train/train\\adrso215.mp3 ./Data/train\\adrso215.wav torch.Size([2, 3720596]) torch.Size([1, 1350008]) 44100 16000 84.36725623582767 84.3755\n",
      "./MADReSS-23-train/train\\adrso216.mp3 ./Data/train\\adrso216.wav torch.Size([2, 9902776]) torch.Size([1, 3593195]) 44100 16000 224.55274376417233 224.5746875\n",
      "./MADReSS-23-train/train\\adrso217.mp3 ./Data/train\\adrso217.wav torch.Size([2, 3014489]) torch.Size([1, 1093799]) 44100 16000 68.35575963718821 68.3624375\n",
      "./MADReSS-23-train/train\\adrso218.mp3 ./Data/train\\adrso218.wav torch.Size([2, 2633994]) torch.Size([1, 955644]) 44100 16000 59.72775510204082 59.72775\n",
      "./MADReSS-23-train/train\\adrso219.mp3 ./Data/train\\adrso219.wav torch.Size([2, 4327805]) torch.Size([1, 1570179]) 44100 16000 98.13616780045352 98.1361875\n",
      "./MADReSS-23-train/train\\adrso220.mp3 ./Data/train\\adrso220.wav torch.Size([2, 5584350]) torch.Size([1, 2026266]) 44100 16000 126.62925170068027 126.641625\n",
      "./MADReSS-23-train/train\\adrso222.mp3 ./Data/train\\adrso222.wav torch.Size([2, 2150574]) torch.Size([1, 780330]) 44100 16000 48.765850340136055 48.770625\n",
      "./MADReSS-23-train/train\\adrso223.mp3 ./Data/train\\adrso223.wav torch.Size([2, 4524615]) torch.Size([1, 1641744]) 44100 16000 102.59897959183674 102.609\n",
      "./MADReSS-23-train/train\\adrso224.mp3 ./Data/train\\adrso224.wav torch.Size([2, 2949982]) torch.Size([1, 1070394]) 44100 16000 66.89301587301587 66.899625\n",
      "./MADReSS-23-train/train\\adrso226.mp3 ./Data/train\\adrso226.wav torch.Size([2, 5656920]) torch.Size([1, 2052598]) 44100 16000 128.2748299319728 128.287375\n",
      "./MADReSS-23-train/train\\adrso228.mp3 ./Data/train\\adrso228.wav torch.Size([2, 2985691]) torch.Size([1, 1083350]) 44100 16000 67.70274376417234 67.709375\n",
      "./MADReSS-23-train/train\\adrso229.mp3 ./Data/train\\adrso229.wav torch.Size([2, 4789547]) torch.Size([1, 1737874]) 44100 16000 108.60650793650794 108.617125\n",
      "./MADReSS-23-train/train\\adrso231.mp3 ./Data/train\\adrso231.wav torch.Size([2, 6621048]) torch.Size([1, 2402430]) 44100 16000 150.13714285714286 150.151875\n",
      "./MADReSS-23-train/train\\adrso232.mp3 ./Data/train\\adrso232.wav torch.Size([2, 3780494]) torch.Size([1, 1371742]) 44100 16000 85.72548752834467 85.733875\n",
      "./MADReSS-23-train/train\\adrso233.mp3 ./Data/train\\adrso233.wav torch.Size([2, 4062707]) torch.Size([1, 1474142]) 44100 16000 92.12487528344671 92.133875\n",
      "./MADReSS-23-train/train\\adrso234.mp3 ./Data/train\\adrso234.wav torch.Size([2, 3169995]) torch.Size([1, 1150224]) 44100 16000 71.88197278911565 71.889\n",
      "./MADReSS-23-train/train\\adrso235.mp3 ./Data/train\\adrso235.wav torch.Size([2, 2460432]) torch.Size([1, 892761]) 44100 16000 55.79210884353741 55.7975625\n",
      "./MADReSS-23-train/train\\adrso236.mp3 ./Data/train\\adrso236.wav torch.Size([2, 2262307]) torch.Size([1, 820872]) 44100 16000 51.29947845804989 51.3045\n",
      "./MADReSS-23-train/train\\adrso237.mp3 ./Data/train\\adrso237.wav torch.Size([2, 2466192]) torch.Size([1, 894851]) 44100 16000 55.922721088435374 55.9281875\n",
      "./MADReSS-23-train/train\\adrso243.mp3 ./Data/train\\adrso243.wav torch.Size([2, 4136426]) torch.Size([1, 1500892]) 44100 16000 93.79650793650794 93.80575\n",
      "./MADReSS-23-train/train\\adrso244.mp3 ./Data/train\\adrso244.wav torch.Size([2, 3597345]) torch.Size([1, 1305287]) 44100 16000 81.57244897959184 81.5804375\n",
      "./MADReSS-23-train/train\\adrso245.mp3 ./Data/train\\adrso245.wav torch.Size([2, 2030777]) torch.Size([1, 736862]) 44100 16000 46.04936507936508 46.053875\n",
      "./MADReSS-23-train/train\\adrso246.mp3 ./Data/train\\adrso246.wav torch.Size([2, 2509962]) torch.Size([1, 910733]) 44100 16000 56.915238095238095 56.9208125\n",
      "./MADReSS-23-train/train\\adrso247.mp3 ./Data/train\\adrso247.wav torch.Size([2, 3237955]) torch.Size([1, 1174883]) 44100 16000 73.42301587301587 73.4301875\n",
      "./MADReSS-23-train/train\\adrso248.mp3 ./Data/train\\adrso248.wav torch.Size([2, 3347384]) torch.Size([1, 1214590]) 44100 16000 75.90439909297052 75.911875\n",
      "./MADReSS-23-train/train\\adrso249.mp3 ./Data/train\\adrso249.wav torch.Size([2, 1887943]) torch.Size([1, 685035]) 44100 16000 42.81049886621315 42.8146875\n",
      "./MADReSS-23-train/train\\adrso250.mp3 ./Data/train\\adrso250.wav torch.Size([2, 3742481]) torch.Size([1, 1357950]) 44100 16000 84.86351473922902 84.871875\n",
      "./MADReSS-23-train/train\\adrso251.mp3 ./Data/train\\adrso251.wav torch.Size([2, 2860137]) torch.Size([1, 1037793]) 44100 16000 64.85571428571428 64.8620625\n",
      "./MADReSS-23-train/train\\adrso253.mp3 ./Data/train\\adrso253.wav torch.Size([2, 3092816]) torch.Size([1, 1122221]) 44100 16000 70.1318820861678 70.1388125\n",
      "./MADReSS-23-train/train\\adrso254.mp3 ./Data/train\\adrso254.wav torch.Size([2, 1564264]) torch.Size([1, 567589]) 44100 16000 35.470839002267574 35.4743125\n",
      "./MADReSS-23-train/train\\adrso255.mp3 ./Data/train\\adrso255.wav torch.Size([2, 4456652]) torch.Size([1, 1617084]) 44100 16000 101.05786848072562 101.06775\n",
      "./MADReSS-23-train/train\\adrso256.mp3 ./Data/train\\adrso256.wav torch.Size([2, 3918720]) torch.Size([1, 1421897]) 44100 16000 88.85986394557823 88.8685625\n",
      "./MADReSS-23-train/train\\adrso257.mp3 ./Data/train\\adrso257.wav torch.Size([2, 2518026]) torch.Size([1, 913659]) 44100 16000 57.09809523809524 57.1036875\n",
      "./MADReSS-23-train/train\\adrso258.mp3 ./Data/train\\adrso258.wav torch.Size([2, 5167367]) torch.Size([1, 1874965]) 44100 16000 117.17385487528345 117.1853125\n",
      "./MADReSS-23-train/train\\adrso259.mp3 ./Data/train\\adrso259.wav torch.Size([2, 3585825]) torch.Size([1, 1301107]) 44100 16000 81.31122448979592 81.3191875\n",
      "./MADReSS-23-train/train\\adrso260.mp3 ./Data/train\\adrso260.wav torch.Size([2, 2446608]) torch.Size([1, 887745]) 44100 16000 55.478639455782314 55.4840625\n",
      "./MADReSS-23-train/train\\adrso261.mp3 ./Data/train\\adrso261.wav torch.Size([2, 3262144]) torch.Size([1, 1183661]) 44100 16000 73.97151927437642 73.9788125\n",
      "./MADReSS-23-train/train\\adrso262.mp3 ./Data/train\\adrso262.wav torch.Size([2, 1981247]) torch.Size([1, 718890]) 44100 16000 44.9262358276644 44.930625\n",
      "./MADReSS-23-train/train\\adrso263.mp3 ./Data/train\\adrso263.wav torch.Size([2, 1987007]) torch.Size([1, 720980]) 44100 16000 45.05684807256236 45.06125\n",
      "./MADReSS-23-train/train\\adrso264.mp3 ./Data/train\\adrso264.wav torch.Size([1, 3613471]) torch.Size([1, 1311138]) 44100 16000 81.9381179138322 81.946125\n",
      "./MADReSS-23-train/train\\adrso265.mp3 ./Data/train\\adrso265.wav torch.Size([2, 4710067]) torch.Size([1, 1709035]) 44100 16000 106.8042403628118 106.8146875\n",
      "./MADReSS-23-train/train\\adrso266.mp3 ./Data/train\\adrso266.wav torch.Size([2, 2636671]) torch.Size([1, 956709]) 44100 16000 59.78845804988662 59.7943125\n",
      "./MADReSS-23-train/train\\adrso267.mp3 ./Data/train\\adrso267.wav torch.Size([2, 2033081]) torch.Size([1, 737698]) 44100 16000 46.101609977324266 46.106125\n",
      "./MADReSS-23-train/train\\adrso268.mp3 ./Data/train\\adrso268.wav torch.Size([2, 3208005]) torch.Size([1, 1164016]) 44100 16000 72.7438775510204 72.751\n",
      "./MADReSS-23-train/train\\adrso269.mp3 ./Data/train\\adrso269.wav torch.Size([2, 2345243]) torch.Size([1, 850965]) 44100 16000 53.18011337868481 53.1853125\n",
      "./MADReSS-23-train/train\\adrso270.mp3 ./Data/train\\adrso270.wav torch.Size([2, 3395765]) torch.Size([1, 1232144]) 44100 16000 77.00147392290249 77.009\n",
      "./MADReSS-23-train/train\\adrso272.mp3 ./Data/train\\adrso272.wav torch.Size([2, 2010044]) torch.Size([1, 729339]) 44100 16000 45.57922902494331 45.5836875\n",
      "./MADReSS-23-train/train\\adrso273.mp3 ./Data/train\\adrso273.wav torch.Size([2, 2576773]) torch.Size([1, 934975]) 44100 16000 58.43022675736962 58.4359375\n",
      "./MADReSS-23-train/train\\adrso274.mp3 ./Data/train\\adrso274.wav torch.Size([2, 6519683]) torch.Size([1, 2365649]) 44100 16000 147.83861678004536 147.8530625\n",
      "./MADReSS-23-train/train\\adrso275.mp3 ./Data/train\\adrso275.wav torch.Size([2, 5982903]) torch.Size([1, 2170880]) 44100 16000 135.66673469387754 135.68\n",
      "./MADReSS-23-train/train\\adrso276.mp3 ./Data/train\\adrso276.wav torch.Size([2, 7435435]) torch.Size([1, 2697927]) 44100 16000 168.60396825396825 168.6204375\n",
      "./MADReSS-23-train/train\\adrso277.mp3 ./Data/train\\adrso277.wav torch.Size([2, 3278272]) torch.Size([1, 1189512]) 44100 16000 74.33723356009071 74.3445\n",
      "./MADReSS-23-train/train\\adrso278.mp3 ./Data/train\\adrso278.wav torch.Size([2, 1208329]) torch.Size([1, 438439]) 44100 16000 27.399750566893424 27.4024375\n",
      "./MADReSS-23-train/train\\adrso279.mp3 ./Data/train\\adrso279.wav torch.Size([2, 2660860]) torch.Size([1, 965486]) 44100 16000 60.33696145124716 60.342875\n",
      "./MADReSS-23-train/train\\adrso280.mp3 ./Data/train\\adrso280.wav torch.Size([2, 4390994]) torch.Size([1, 1593261]) 44100 16000 99.56902494331065 99.5788125\n",
      "./MADReSS-23-train/train\\adrso281.mp3 ./Data/train\\adrso281.wav torch.Size([2, 3407282]) torch.Size([1, 1236323]) 44100 16000 77.26263038548753 77.2701875\n",
      "./MADReSS-23-train/train\\adrso283.mp3 ./Data/train\\adrso283.wav torch.Size([2, 3717140]) torch.Size([1, 1348754]) 44100 16000 84.28888888888889 84.297125\n",
      "./MADReSS-23-train/train\\adrso284.mp3 ./Data/train\\adrso284.wav torch.Size([2, 2398229]) torch.Size([1, 870191]) 44100 16000 54.38160997732426 54.3869375\n",
      "./MADReSS-23-train/train\\adrso285.mp3 ./Data/train\\adrso285.wav torch.Size([2, 2302622]) torch.Size([1, 835501]) 44100 16000 52.21365079365079 52.2188125\n",
      "./MADReSS-23-train/train\\adrso286.mp3 ./Data/train\\adrso286.wav torch.Size([2, 2492685]) torch.Size([1, 904464]) 44100 16000 56.5234693877551 56.529\n",
      "./MADReSS-23-train/train\\adrso287.mp3 ./Data/train\\adrso287.wav torch.Size([2, 3107792]) torch.Size([1, 1127654]) 44100 16000 70.47147392290249 70.478375\n",
      "./MADReSS-23-train/train\\adrso288.mp3 ./Data/train\\adrso288.wav torch.Size([2, 2986843]) torch.Size([1, 1083768]) 44100 16000 67.72886621315193 67.7355\n",
      "./MADReSS-23-train/train\\adrso289.mp3 ./Data/train\\adrso289.wav torch.Size([2, 3164235]) torch.Size([1, 1148134]) 44100 16000 71.75136054421769 71.758375\n",
      "./MADReSS-23-train/train\\adrso290.mp3 ./Data/train\\adrso290.wav torch.Size([2, 4515399]) torch.Size([1, 1638400]) 44100 16000 102.39 102.4\n",
      "./MADReSS-23-train/train\\adrso291.mp3 ./Data/train\\adrso291.wav torch.Size([2, 3695254]) torch.Size([1, 1340813]) 44100 16000 83.79260770975057 83.8008125\n",
      "./MADReSS-23-train/train\\adrso292.mp3 ./Data/train\\adrso292.wav torch.Size([2, 1900703]) torch.Size([1, 689633]) 44100 16000 43.09984126984127 43.1020625\n",
      "./MADReSS-23-train/train\\adrso293.mp3 ./Data/train\\adrso293.wav torch.Size([2, 3217221]) torch.Size([1, 1167360]) 44100 16000 72.95285714285714 72.96\n",
      "./MADReSS-23-train/train\\adrso294.mp3 ./Data/train\\adrso294.wav torch.Size([2, 2963806]) torch.Size([1, 1075409]) 44100 16000 67.20648526077098 67.2130625\n",
      "./MADReSS-23-train/train\\adrso295.mp3 ./Data/train\\adrso295.wav torch.Size([2, 3224133]) torch.Size([1, 1169868]) 44100 16000 73.1095918367347 73.11675\n",
      "./MADReSS-23-train/train\\adrso296.mp3 ./Data/train\\adrso296.wav torch.Size([2, 5356276]) torch.Size([1, 1943510]) 44100 16000 121.45750566893425 121.469375\n",
      "./MADReSS-23-train/train\\adrso297.mp3 ./Data/train\\adrso297.wav torch.Size([2, 4450892]) torch.Size([1, 1614994]) 44100 16000 100.92725623582767 100.937125\n",
      "./MADReSS-23-train/train\\adrso298.mp3 ./Data/train\\adrso298.wav torch.Size([2, 3334714]) torch.Size([1, 1209992]) 44100 16000 75.61709750566894 75.6245\n",
      "./MADReSS-23-train/train\\adrso299.mp3 ./Data/train\\adrso299.wav torch.Size([2, 3164235]) torch.Size([1, 1148134]) 44100 16000 71.75136054421769 71.758375\n",
      "./MADReSS-23-train/train\\adrso300.mp3 ./Data/train\\adrso300.wav torch.Size([2, 1723223]) torch.Size([1, 625267]) 44100 16000 39.0753514739229 39.0791875\n",
      "./MADReSS-23-train/train\\adrso301.mp3 ./Data/train\\adrso301.wav torch.Size([2, 3357752]) torch.Size([1, 1218351]) 44100 16000 76.13950113378685 76.1469375\n",
      "./MADReSS-23-train/train\\adrso302.mp3 ./Data/train\\adrso302.wav torch.Size([2, 4234338]) torch.Size([1, 1536418]) 44100 16000 96.01673469387755 96.026125\n",
      "./MADReSS-23-train/train\\adrso303.mp3 ./Data/train\\adrso303.wav torch.Size([2, 5653464]) torch.Size([1, 2051344]) 44100 16000 128.19646258503403 128.209\n",
      "./MADReSS-23-train/train\\adrso304.mp3 ./Data/train\\adrso304.wav torch.Size([2, 3630748]) torch.Size([1, 1317407]) 44100 16000 82.3298866213152 82.3379375\n",
      "./MADReSS-23-train/train\\adrso307.mp3 ./Data/train\\adrso307.wav torch.Size([2, 2969566]) torch.Size([1, 1077499]) 44100 16000 67.33709750566894 67.3436875\n",
      "./MADReSS-23-train/train\\adrso308.mp3 ./Data/train\\adrso308.wav torch.Size([2, 3628444]) torch.Size([1, 1316572]) 44100 16000 82.27764172335601 82.28575\n",
      "./MADReSS-23-train/train\\adrso309.mp3 ./Data/train\\adrso309.wav torch.Size([2, 2543367]) torch.Size([1, 922854]) 44100 16000 57.672721088435374 57.678375\n",
      "./MADReSS-23-train/train\\adrso310.mp3 ./Data/train\\adrso310.wav torch.Size([2, 2459280]) torch.Size([1, 892343]) 44100 16000 55.76598639455782 55.7714375\n",
      "./MADReSS-23-train/train\\adrso312.mp3 ./Data/train\\adrso312.wav torch.Size([2, 3446535]) torch.Size([1, 1250534]) 44100 16000 78.15272108843537 78.158375\n",
      "./MADReSS-23-train/train\\adrso313.mp3 ./Data/train\\adrso313.wav torch.Size([2, 1149583]) torch.Size([1, 417123]) 44100 16000 26.067641723356008 26.0701875\n",
      "./MADReSS-23-train/train\\adrso314.mp3 ./Data/train\\adrso314.wav torch.Size([2, 1701338]) torch.Size([1, 617326]) 44100 16000 38.57909297052154 38.582875\n",
      "./MADReSS-23-train/train\\adrso315.mp3 ./Data/train\\adrso315.wav torch.Size([2, 2993755]) torch.Size([1, 1086276]) 44100 16000 67.88560090702948 67.89225\n",
      "./MADReSS-23-train/train\\adrso316.mp3 ./Data/train\\adrso316.wav torch.Size([2, 2846313]) torch.Size([1, 1032777]) 44100 16000 64.54224489795918 64.5485625\n",
      "./MADReSS-23-train/train\\adrso317.mp3 ./Data/train\\adrso317.wav torch.Size([2, 3146955]) torch.Size([1, 1141865]) 44100 16000 71.35952380952381 71.3665625\n",
      "6\n"
     ]
    }
   ],
   "source": [
    "check_duration(path1=\"./MADReSS-23-train/train\", path2=\"./Data/train\")\n",
    "# 可能因为格式转换的原因，导致时长略微有些变化"
   ],
   "metadata": {
    "collapsed": false
   }
  },
  {
   "cell_type": "code",
   "execution_count": 21,
   "outputs": [
    {
     "data": {
      "text/plain": "UpstreamExpert(\n  (model): HubertModel(\n    (feature_extractor): ConvFeatureExtractionModel(\n      (conv_layers): ModuleList(\n        (0): Sequential(\n          (0): Conv1d(1, 512, kernel_size=(10,), stride=(5,), bias=False)\n          (1): Dropout(p=0.0, inplace=False)\n          (2): Sequential(\n            (0): TransposeLast()\n            (1): Fp32LayerNorm((512,), eps=1e-05, elementwise_affine=True)\n            (2): TransposeLast()\n          )\n          (3): GELU(approximate=none)\n        )\n        (1): Sequential(\n          (0): Conv1d(512, 512, kernel_size=(3,), stride=(2,), bias=False)\n          (1): Dropout(p=0.0, inplace=False)\n          (2): Sequential(\n            (0): TransposeLast()\n            (1): Fp32LayerNorm((512,), eps=1e-05, elementwise_affine=True)\n            (2): TransposeLast()\n          )\n          (3): GELU(approximate=none)\n        )\n        (2): Sequential(\n          (0): Conv1d(512, 512, kernel_size=(3,), stride=(2,), bias=False)\n          (1): Dropout(p=0.0, inplace=False)\n          (2): Sequential(\n            (0): TransposeLast()\n            (1): Fp32LayerNorm((512,), eps=1e-05, elementwise_affine=True)\n            (2): TransposeLast()\n          )\n          (3): GELU(approximate=none)\n        )\n        (3): Sequential(\n          (0): Conv1d(512, 512, kernel_size=(3,), stride=(2,), bias=False)\n          (1): Dropout(p=0.0, inplace=False)\n          (2): Sequential(\n            (0): TransposeLast()\n            (1): Fp32LayerNorm((512,), eps=1e-05, elementwise_affine=True)\n            (2): TransposeLast()\n          )\n          (3): GELU(approximate=none)\n        )\n        (4): Sequential(\n          (0): Conv1d(512, 512, kernel_size=(3,), stride=(2,), bias=False)\n          (1): Dropout(p=0.0, inplace=False)\n          (2): Sequential(\n            (0): TransposeLast()\n            (1): Fp32LayerNorm((512,), eps=1e-05, elementwise_affine=True)\n            (2): TransposeLast()\n          )\n          (3): GELU(approximate=none)\n        )\n        (5): Sequential(\n          (0): Conv1d(512, 512, kernel_size=(2,), stride=(2,), bias=False)\n          (1): Dropout(p=0.0, inplace=False)\n          (2): Sequential(\n            (0): TransposeLast()\n            (1): Fp32LayerNorm((512,), eps=1e-05, elementwise_affine=True)\n            (2): TransposeLast()\n          )\n          (3): GELU(approximate=none)\n        )\n        (6): Sequential(\n          (0): Conv1d(512, 512, kernel_size=(2,), stride=(2,), bias=False)\n          (1): Dropout(p=0.0, inplace=False)\n          (2): Sequential(\n            (0): TransposeLast()\n            (1): Fp32LayerNorm((512,), eps=1e-05, elementwise_affine=True)\n            (2): TransposeLast()\n          )\n          (3): GELU(approximate=none)\n        )\n      )\n    )\n    (post_extract_proj): Linear(in_features=512, out_features=1024, bias=True)\n    (dropout_input): Dropout(p=0.0, inplace=False)\n    (dropout_features): Dropout(p=0.0, inplace=False)\n    (encoder): TransformerEncoder(\n      (pos_conv): Sequential(\n        (0): Conv1d(1024, 1024, kernel_size=(128,), stride=(1,), padding=(64,), groups=16)\n        (1): SamePad()\n        (2): GELU(approximate=none)\n      )\n      (layers): ModuleList(\n        (0): TransformerSentenceEncoderLayer(\n          (self_attn): MultiheadAttention(\n            (dropout_module): FairseqDropout()\n            (k_proj): Linear(in_features=1024, out_features=1024, bias=True)\n            (v_proj): Linear(in_features=1024, out_features=1024, bias=True)\n            (q_proj): Linear(in_features=1024, out_features=1024, bias=True)\n            (out_proj): Linear(in_features=1024, out_features=1024, bias=True)\n          )\n          (dropout1): Dropout(p=0.0, inplace=False)\n          (dropout2): Dropout(p=0.0, inplace=False)\n          (dropout3): Dropout(p=0.0, inplace=False)\n          (self_attn_layer_norm): LayerNorm((1024,), eps=1e-05, elementwise_affine=True)\n          (fc1): Linear(in_features=1024, out_features=4096, bias=True)\n          (fc2): Linear(in_features=4096, out_features=1024, bias=True)\n          (final_layer_norm): LayerNorm((1024,), eps=1e-05, elementwise_affine=True)\n        )\n        (1): TransformerSentenceEncoderLayer(\n          (self_attn): MultiheadAttention(\n            (dropout_module): FairseqDropout()\n            (k_proj): Linear(in_features=1024, out_features=1024, bias=True)\n            (v_proj): Linear(in_features=1024, out_features=1024, bias=True)\n            (q_proj): Linear(in_features=1024, out_features=1024, bias=True)\n            (out_proj): Linear(in_features=1024, out_features=1024, bias=True)\n          )\n          (dropout1): Dropout(p=0.0, inplace=False)\n          (dropout2): Dropout(p=0.0, inplace=False)\n          (dropout3): Dropout(p=0.0, inplace=False)\n          (self_attn_layer_norm): LayerNorm((1024,), eps=1e-05, elementwise_affine=True)\n          (fc1): Linear(in_features=1024, out_features=4096, bias=True)\n          (fc2): Linear(in_features=4096, out_features=1024, bias=True)\n          (final_layer_norm): LayerNorm((1024,), eps=1e-05, elementwise_affine=True)\n        )\n        (2): TransformerSentenceEncoderLayer(\n          (self_attn): MultiheadAttention(\n            (dropout_module): FairseqDropout()\n            (k_proj): Linear(in_features=1024, out_features=1024, bias=True)\n            (v_proj): Linear(in_features=1024, out_features=1024, bias=True)\n            (q_proj): Linear(in_features=1024, out_features=1024, bias=True)\n            (out_proj): Linear(in_features=1024, out_features=1024, bias=True)\n          )\n          (dropout1): Dropout(p=0.0, inplace=False)\n          (dropout2): Dropout(p=0.0, inplace=False)\n          (dropout3): Dropout(p=0.0, inplace=False)\n          (self_attn_layer_norm): LayerNorm((1024,), eps=1e-05, elementwise_affine=True)\n          (fc1): Linear(in_features=1024, out_features=4096, bias=True)\n          (fc2): Linear(in_features=4096, out_features=1024, bias=True)\n          (final_layer_norm): LayerNorm((1024,), eps=1e-05, elementwise_affine=True)\n        )\n        (3): TransformerSentenceEncoderLayer(\n          (self_attn): MultiheadAttention(\n            (dropout_module): FairseqDropout()\n            (k_proj): Linear(in_features=1024, out_features=1024, bias=True)\n            (v_proj): Linear(in_features=1024, out_features=1024, bias=True)\n            (q_proj): Linear(in_features=1024, out_features=1024, bias=True)\n            (out_proj): Linear(in_features=1024, out_features=1024, bias=True)\n          )\n          (dropout1): Dropout(p=0.0, inplace=False)\n          (dropout2): Dropout(p=0.0, inplace=False)\n          (dropout3): Dropout(p=0.0, inplace=False)\n          (self_attn_layer_norm): LayerNorm((1024,), eps=1e-05, elementwise_affine=True)\n          (fc1): Linear(in_features=1024, out_features=4096, bias=True)\n          (fc2): Linear(in_features=4096, out_features=1024, bias=True)\n          (final_layer_norm): LayerNorm((1024,), eps=1e-05, elementwise_affine=True)\n        )\n        (4): TransformerSentenceEncoderLayer(\n          (self_attn): MultiheadAttention(\n            (dropout_module): FairseqDropout()\n            (k_proj): Linear(in_features=1024, out_features=1024, bias=True)\n            (v_proj): Linear(in_features=1024, out_features=1024, bias=True)\n            (q_proj): Linear(in_features=1024, out_features=1024, bias=True)\n            (out_proj): Linear(in_features=1024, out_features=1024, bias=True)\n          )\n          (dropout1): Dropout(p=0.0, inplace=False)\n          (dropout2): Dropout(p=0.0, inplace=False)\n          (dropout3): Dropout(p=0.0, inplace=False)\n          (self_attn_layer_norm): LayerNorm((1024,), eps=1e-05, elementwise_affine=True)\n          (fc1): Linear(in_features=1024, out_features=4096, bias=True)\n          (fc2): Linear(in_features=4096, out_features=1024, bias=True)\n          (final_layer_norm): LayerNorm((1024,), eps=1e-05, elementwise_affine=True)\n        )\n        (5): TransformerSentenceEncoderLayer(\n          (self_attn): MultiheadAttention(\n            (dropout_module): FairseqDropout()\n            (k_proj): Linear(in_features=1024, out_features=1024, bias=True)\n            (v_proj): Linear(in_features=1024, out_features=1024, bias=True)\n            (q_proj): Linear(in_features=1024, out_features=1024, bias=True)\n            (out_proj): Linear(in_features=1024, out_features=1024, bias=True)\n          )\n          (dropout1): Dropout(p=0.0, inplace=False)\n          (dropout2): Dropout(p=0.0, inplace=False)\n          (dropout3): Dropout(p=0.0, inplace=False)\n          (self_attn_layer_norm): LayerNorm((1024,), eps=1e-05, elementwise_affine=True)\n          (fc1): Linear(in_features=1024, out_features=4096, bias=True)\n          (fc2): Linear(in_features=4096, out_features=1024, bias=True)\n          (final_layer_norm): LayerNorm((1024,), eps=1e-05, elementwise_affine=True)\n        )\n        (6): TransformerSentenceEncoderLayer(\n          (self_attn): MultiheadAttention(\n            (dropout_module): FairseqDropout()\n            (k_proj): Linear(in_features=1024, out_features=1024, bias=True)\n            (v_proj): Linear(in_features=1024, out_features=1024, bias=True)\n            (q_proj): Linear(in_features=1024, out_features=1024, bias=True)\n            (out_proj): Linear(in_features=1024, out_features=1024, bias=True)\n          )\n          (dropout1): Dropout(p=0.0, inplace=False)\n          (dropout2): Dropout(p=0.0, inplace=False)\n          (dropout3): Dropout(p=0.0, inplace=False)\n          (self_attn_layer_norm): LayerNorm((1024,), eps=1e-05, elementwise_affine=True)\n          (fc1): Linear(in_features=1024, out_features=4096, bias=True)\n          (fc2): Linear(in_features=4096, out_features=1024, bias=True)\n          (final_layer_norm): LayerNorm((1024,), eps=1e-05, elementwise_affine=True)\n        )\n        (7): TransformerSentenceEncoderLayer(\n          (self_attn): MultiheadAttention(\n            (dropout_module): FairseqDropout()\n            (k_proj): Linear(in_features=1024, out_features=1024, bias=True)\n            (v_proj): Linear(in_features=1024, out_features=1024, bias=True)\n            (q_proj): Linear(in_features=1024, out_features=1024, bias=True)\n            (out_proj): Linear(in_features=1024, out_features=1024, bias=True)\n          )\n          (dropout1): Dropout(p=0.0, inplace=False)\n          (dropout2): Dropout(p=0.0, inplace=False)\n          (dropout3): Dropout(p=0.0, inplace=False)\n          (self_attn_layer_norm): LayerNorm((1024,), eps=1e-05, elementwise_affine=True)\n          (fc1): Linear(in_features=1024, out_features=4096, bias=True)\n          (fc2): Linear(in_features=4096, out_features=1024, bias=True)\n          (final_layer_norm): LayerNorm((1024,), eps=1e-05, elementwise_affine=True)\n        )\n        (8): TransformerSentenceEncoderLayer(\n          (self_attn): MultiheadAttention(\n            (dropout_module): FairseqDropout()\n            (k_proj): Linear(in_features=1024, out_features=1024, bias=True)\n            (v_proj): Linear(in_features=1024, out_features=1024, bias=True)\n            (q_proj): Linear(in_features=1024, out_features=1024, bias=True)\n            (out_proj): Linear(in_features=1024, out_features=1024, bias=True)\n          )\n          (dropout1): Dropout(p=0.0, inplace=False)\n          (dropout2): Dropout(p=0.0, inplace=False)\n          (dropout3): Dropout(p=0.0, inplace=False)\n          (self_attn_layer_norm): LayerNorm((1024,), eps=1e-05, elementwise_affine=True)\n          (fc1): Linear(in_features=1024, out_features=4096, bias=True)\n          (fc2): Linear(in_features=4096, out_features=1024, bias=True)\n          (final_layer_norm): LayerNorm((1024,), eps=1e-05, elementwise_affine=True)\n        )\n        (9): TransformerSentenceEncoderLayer(\n          (self_attn): MultiheadAttention(\n            (dropout_module): FairseqDropout()\n            (k_proj): Linear(in_features=1024, out_features=1024, bias=True)\n            (v_proj): Linear(in_features=1024, out_features=1024, bias=True)\n            (q_proj): Linear(in_features=1024, out_features=1024, bias=True)\n            (out_proj): Linear(in_features=1024, out_features=1024, bias=True)\n          )\n          (dropout1): Dropout(p=0.0, inplace=False)\n          (dropout2): Dropout(p=0.0, inplace=False)\n          (dropout3): Dropout(p=0.0, inplace=False)\n          (self_attn_layer_norm): LayerNorm((1024,), eps=1e-05, elementwise_affine=True)\n          (fc1): Linear(in_features=1024, out_features=4096, bias=True)\n          (fc2): Linear(in_features=4096, out_features=1024, bias=True)\n          (final_layer_norm): LayerNorm((1024,), eps=1e-05, elementwise_affine=True)\n        )\n        (10): TransformerSentenceEncoderLayer(\n          (self_attn): MultiheadAttention(\n            (dropout_module): FairseqDropout()\n            (k_proj): Linear(in_features=1024, out_features=1024, bias=True)\n            (v_proj): Linear(in_features=1024, out_features=1024, bias=True)\n            (q_proj): Linear(in_features=1024, out_features=1024, bias=True)\n            (out_proj): Linear(in_features=1024, out_features=1024, bias=True)\n          )\n          (dropout1): Dropout(p=0.0, inplace=False)\n          (dropout2): Dropout(p=0.0, inplace=False)\n          (dropout3): Dropout(p=0.0, inplace=False)\n          (self_attn_layer_norm): LayerNorm((1024,), eps=1e-05, elementwise_affine=True)\n          (fc1): Linear(in_features=1024, out_features=4096, bias=True)\n          (fc2): Linear(in_features=4096, out_features=1024, bias=True)\n          (final_layer_norm): LayerNorm((1024,), eps=1e-05, elementwise_affine=True)\n        )\n        (11): TransformerSentenceEncoderLayer(\n          (self_attn): MultiheadAttention(\n            (dropout_module): FairseqDropout()\n            (k_proj): Linear(in_features=1024, out_features=1024, bias=True)\n            (v_proj): Linear(in_features=1024, out_features=1024, bias=True)\n            (q_proj): Linear(in_features=1024, out_features=1024, bias=True)\n            (out_proj): Linear(in_features=1024, out_features=1024, bias=True)\n          )\n          (dropout1): Dropout(p=0.0, inplace=False)\n          (dropout2): Dropout(p=0.0, inplace=False)\n          (dropout3): Dropout(p=0.0, inplace=False)\n          (self_attn_layer_norm): LayerNorm((1024,), eps=1e-05, elementwise_affine=True)\n          (fc1): Linear(in_features=1024, out_features=4096, bias=True)\n          (fc2): Linear(in_features=4096, out_features=1024, bias=True)\n          (final_layer_norm): LayerNorm((1024,), eps=1e-05, elementwise_affine=True)\n        )\n        (12): TransformerSentenceEncoderLayer(\n          (self_attn): MultiheadAttention(\n            (dropout_module): FairseqDropout()\n            (k_proj): Linear(in_features=1024, out_features=1024, bias=True)\n            (v_proj): Linear(in_features=1024, out_features=1024, bias=True)\n            (q_proj): Linear(in_features=1024, out_features=1024, bias=True)\n            (out_proj): Linear(in_features=1024, out_features=1024, bias=True)\n          )\n          (dropout1): Dropout(p=0.0, inplace=False)\n          (dropout2): Dropout(p=0.0, inplace=False)\n          (dropout3): Dropout(p=0.0, inplace=False)\n          (self_attn_layer_norm): LayerNorm((1024,), eps=1e-05, elementwise_affine=True)\n          (fc1): Linear(in_features=1024, out_features=4096, bias=True)\n          (fc2): Linear(in_features=4096, out_features=1024, bias=True)\n          (final_layer_norm): LayerNorm((1024,), eps=1e-05, elementwise_affine=True)\n        )\n        (13): TransformerSentenceEncoderLayer(\n          (self_attn): MultiheadAttention(\n            (dropout_module): FairseqDropout()\n            (k_proj): Linear(in_features=1024, out_features=1024, bias=True)\n            (v_proj): Linear(in_features=1024, out_features=1024, bias=True)\n            (q_proj): Linear(in_features=1024, out_features=1024, bias=True)\n            (out_proj): Linear(in_features=1024, out_features=1024, bias=True)\n          )\n          (dropout1): Dropout(p=0.0, inplace=False)\n          (dropout2): Dropout(p=0.0, inplace=False)\n          (dropout3): Dropout(p=0.0, inplace=False)\n          (self_attn_layer_norm): LayerNorm((1024,), eps=1e-05, elementwise_affine=True)\n          (fc1): Linear(in_features=1024, out_features=4096, bias=True)\n          (fc2): Linear(in_features=4096, out_features=1024, bias=True)\n          (final_layer_norm): LayerNorm((1024,), eps=1e-05, elementwise_affine=True)\n        )\n        (14): TransformerSentenceEncoderLayer(\n          (self_attn): MultiheadAttention(\n            (dropout_module): FairseqDropout()\n            (k_proj): Linear(in_features=1024, out_features=1024, bias=True)\n            (v_proj): Linear(in_features=1024, out_features=1024, bias=True)\n            (q_proj): Linear(in_features=1024, out_features=1024, bias=True)\n            (out_proj): Linear(in_features=1024, out_features=1024, bias=True)\n          )\n          (dropout1): Dropout(p=0.0, inplace=False)\n          (dropout2): Dropout(p=0.0, inplace=False)\n          (dropout3): Dropout(p=0.0, inplace=False)\n          (self_attn_layer_norm): LayerNorm((1024,), eps=1e-05, elementwise_affine=True)\n          (fc1): Linear(in_features=1024, out_features=4096, bias=True)\n          (fc2): Linear(in_features=4096, out_features=1024, bias=True)\n          (final_layer_norm): LayerNorm((1024,), eps=1e-05, elementwise_affine=True)\n        )\n        (15): TransformerSentenceEncoderLayer(\n          (self_attn): MultiheadAttention(\n            (dropout_module): FairseqDropout()\n            (k_proj): Linear(in_features=1024, out_features=1024, bias=True)\n            (v_proj): Linear(in_features=1024, out_features=1024, bias=True)\n            (q_proj): Linear(in_features=1024, out_features=1024, bias=True)\n            (out_proj): Linear(in_features=1024, out_features=1024, bias=True)\n          )\n          (dropout1): Dropout(p=0.0, inplace=False)\n          (dropout2): Dropout(p=0.0, inplace=False)\n          (dropout3): Dropout(p=0.0, inplace=False)\n          (self_attn_layer_norm): LayerNorm((1024,), eps=1e-05, elementwise_affine=True)\n          (fc1): Linear(in_features=1024, out_features=4096, bias=True)\n          (fc2): Linear(in_features=4096, out_features=1024, bias=True)\n          (final_layer_norm): LayerNorm((1024,), eps=1e-05, elementwise_affine=True)\n        )\n        (16): TransformerSentenceEncoderLayer(\n          (self_attn): MultiheadAttention(\n            (dropout_module): FairseqDropout()\n            (k_proj): Linear(in_features=1024, out_features=1024, bias=True)\n            (v_proj): Linear(in_features=1024, out_features=1024, bias=True)\n            (q_proj): Linear(in_features=1024, out_features=1024, bias=True)\n            (out_proj): Linear(in_features=1024, out_features=1024, bias=True)\n          )\n          (dropout1): Dropout(p=0.0, inplace=False)\n          (dropout2): Dropout(p=0.0, inplace=False)\n          (dropout3): Dropout(p=0.0, inplace=False)\n          (self_attn_layer_norm): LayerNorm((1024,), eps=1e-05, elementwise_affine=True)\n          (fc1): Linear(in_features=1024, out_features=4096, bias=True)\n          (fc2): Linear(in_features=4096, out_features=1024, bias=True)\n          (final_layer_norm): LayerNorm((1024,), eps=1e-05, elementwise_affine=True)\n        )\n        (17): TransformerSentenceEncoderLayer(\n          (self_attn): MultiheadAttention(\n            (dropout_module): FairseqDropout()\n            (k_proj): Linear(in_features=1024, out_features=1024, bias=True)\n            (v_proj): Linear(in_features=1024, out_features=1024, bias=True)\n            (q_proj): Linear(in_features=1024, out_features=1024, bias=True)\n            (out_proj): Linear(in_features=1024, out_features=1024, bias=True)\n          )\n          (dropout1): Dropout(p=0.0, inplace=False)\n          (dropout2): Dropout(p=0.0, inplace=False)\n          (dropout3): Dropout(p=0.0, inplace=False)\n          (self_attn_layer_norm): LayerNorm((1024,), eps=1e-05, elementwise_affine=True)\n          (fc1): Linear(in_features=1024, out_features=4096, bias=True)\n          (fc2): Linear(in_features=4096, out_features=1024, bias=True)\n          (final_layer_norm): LayerNorm((1024,), eps=1e-05, elementwise_affine=True)\n        )\n        (18): TransformerSentenceEncoderLayer(\n          (self_attn): MultiheadAttention(\n            (dropout_module): FairseqDropout()\n            (k_proj): Linear(in_features=1024, out_features=1024, bias=True)\n            (v_proj): Linear(in_features=1024, out_features=1024, bias=True)\n            (q_proj): Linear(in_features=1024, out_features=1024, bias=True)\n            (out_proj): Linear(in_features=1024, out_features=1024, bias=True)\n          )\n          (dropout1): Dropout(p=0.0, inplace=False)\n          (dropout2): Dropout(p=0.0, inplace=False)\n          (dropout3): Dropout(p=0.0, inplace=False)\n          (self_attn_layer_norm): LayerNorm((1024,), eps=1e-05, elementwise_affine=True)\n          (fc1): Linear(in_features=1024, out_features=4096, bias=True)\n          (fc2): Linear(in_features=4096, out_features=1024, bias=True)\n          (final_layer_norm): LayerNorm((1024,), eps=1e-05, elementwise_affine=True)\n        )\n        (19): TransformerSentenceEncoderLayer(\n          (self_attn): MultiheadAttention(\n            (dropout_module): FairseqDropout()\n            (k_proj): Linear(in_features=1024, out_features=1024, bias=True)\n            (v_proj): Linear(in_features=1024, out_features=1024, bias=True)\n            (q_proj): Linear(in_features=1024, out_features=1024, bias=True)\n            (out_proj): Linear(in_features=1024, out_features=1024, bias=True)\n          )\n          (dropout1): Dropout(p=0.0, inplace=False)\n          (dropout2): Dropout(p=0.0, inplace=False)\n          (dropout3): Dropout(p=0.0, inplace=False)\n          (self_attn_layer_norm): LayerNorm((1024,), eps=1e-05, elementwise_affine=True)\n          (fc1): Linear(in_features=1024, out_features=4096, bias=True)\n          (fc2): Linear(in_features=4096, out_features=1024, bias=True)\n          (final_layer_norm): LayerNorm((1024,), eps=1e-05, elementwise_affine=True)\n        )\n        (20): TransformerSentenceEncoderLayer(\n          (self_attn): MultiheadAttention(\n            (dropout_module): FairseqDropout()\n            (k_proj): Linear(in_features=1024, out_features=1024, bias=True)\n            (v_proj): Linear(in_features=1024, out_features=1024, bias=True)\n            (q_proj): Linear(in_features=1024, out_features=1024, bias=True)\n            (out_proj): Linear(in_features=1024, out_features=1024, bias=True)\n          )\n          (dropout1): Dropout(p=0.0, inplace=False)\n          (dropout2): Dropout(p=0.0, inplace=False)\n          (dropout3): Dropout(p=0.0, inplace=False)\n          (self_attn_layer_norm): LayerNorm((1024,), eps=1e-05, elementwise_affine=True)\n          (fc1): Linear(in_features=1024, out_features=4096, bias=True)\n          (fc2): Linear(in_features=4096, out_features=1024, bias=True)\n          (final_layer_norm): LayerNorm((1024,), eps=1e-05, elementwise_affine=True)\n        )\n        (21): TransformerSentenceEncoderLayer(\n          (self_attn): MultiheadAttention(\n            (dropout_module): FairseqDropout()\n            (k_proj): Linear(in_features=1024, out_features=1024, bias=True)\n            (v_proj): Linear(in_features=1024, out_features=1024, bias=True)\n            (q_proj): Linear(in_features=1024, out_features=1024, bias=True)\n            (out_proj): Linear(in_features=1024, out_features=1024, bias=True)\n          )\n          (dropout1): Dropout(p=0.0, inplace=False)\n          (dropout2): Dropout(p=0.0, inplace=False)\n          (dropout3): Dropout(p=0.0, inplace=False)\n          (self_attn_layer_norm): LayerNorm((1024,), eps=1e-05, elementwise_affine=True)\n          (fc1): Linear(in_features=1024, out_features=4096, bias=True)\n          (fc2): Linear(in_features=4096, out_features=1024, bias=True)\n          (final_layer_norm): LayerNorm((1024,), eps=1e-05, elementwise_affine=True)\n        )\n        (22): TransformerSentenceEncoderLayer(\n          (self_attn): MultiheadAttention(\n            (dropout_module): FairseqDropout()\n            (k_proj): Linear(in_features=1024, out_features=1024, bias=True)\n            (v_proj): Linear(in_features=1024, out_features=1024, bias=True)\n            (q_proj): Linear(in_features=1024, out_features=1024, bias=True)\n            (out_proj): Linear(in_features=1024, out_features=1024, bias=True)\n          )\n          (dropout1): Dropout(p=0.0, inplace=False)\n          (dropout2): Dropout(p=0.0, inplace=False)\n          (dropout3): Dropout(p=0.0, inplace=False)\n          (self_attn_layer_norm): LayerNorm((1024,), eps=1e-05, elementwise_affine=True)\n          (fc1): Linear(in_features=1024, out_features=4096, bias=True)\n          (fc2): Linear(in_features=4096, out_features=1024, bias=True)\n          (final_layer_norm): LayerNorm((1024,), eps=1e-05, elementwise_affine=True)\n        )\n        (23): TransformerSentenceEncoderLayer(\n          (self_attn): MultiheadAttention(\n            (dropout_module): FairseqDropout()\n            (k_proj): Linear(in_features=1024, out_features=1024, bias=True)\n            (v_proj): Linear(in_features=1024, out_features=1024, bias=True)\n            (q_proj): Linear(in_features=1024, out_features=1024, bias=True)\n            (out_proj): Linear(in_features=1024, out_features=1024, bias=True)\n          )\n          (dropout1): Dropout(p=0.0, inplace=False)\n          (dropout2): Dropout(p=0.0, inplace=False)\n          (dropout3): Dropout(p=0.0, inplace=False)\n          (self_attn_layer_norm): LayerNorm((1024,), eps=1e-05, elementwise_affine=True)\n          (fc1): Linear(in_features=1024, out_features=4096, bias=True)\n          (fc2): Linear(in_features=4096, out_features=1024, bias=True)\n          (final_layer_norm): LayerNorm((1024,), eps=1e-05, elementwise_affine=True)\n        )\n      )\n      (layer_norm): LayerNorm((1024,), eps=1e-05, elementwise_affine=True)\n    )\n    (layer_norm): LayerNorm((512,), eps=1e-05, elementwise_affine=True)\n    (final_proj): Linear(in_features=1024, out_features=768, bias=True)\n  )\n)"
     },
     "execution_count": 21,
     "metadata": {},
     "output_type": "execute_result"
    }
   ],
   "source": [
    "model_0 = getattr(hub, \"hubert_large_ll60k\")()\n",
    "# model_0 = getattr(hub, \"hubert\")()\n",
    "model_0.cuda()"
   ],
   "metadata": {
    "collapsed": false
   }
  },
  {
   "cell_type": "code",
   "execution_count": 36,
   "outputs": [
    {
     "data": {
      "text/plain": "(torch.Size([1, 400]), 16000)"
     },
     "execution_count": 36,
     "metadata": {},
     "output_type": "execute_result"
    }
   ],
   "source": [
    "wav, sample = torchaudio.load(\"./Data/train/adrso056.wav\")\n",
    "wav = wav.cuda()\n",
    "wav = wav[:, :400]\n",
    "wav.shape, sample"
   ],
   "metadata": {
    "collapsed": false
   }
  },
  {
   "cell_type": "code",
   "execution_count": 37,
   "outputs": [],
   "source": [
    "# wavs = [torch.randn(160000, dtype=torch.float).to('cuda') for _ in range(16)]\n",
    "with torch.no_grad():\n",
    "    output = model_0(wav)[\"hidden_states\"]"
   ],
   "metadata": {
    "collapsed": false
   }
  },
  {
   "cell_type": "code",
   "execution_count": 38,
   "outputs": [
    {
     "data": {
      "text/plain": "torch.Size([1, 1, 1024])"
     },
     "execution_count": 38,
     "metadata": {},
     "output_type": "execute_result"
    }
   ],
   "source": [
    "output[0].shape"
   ],
   "metadata": {
    "collapsed": false
   }
  },
  {
   "cell_type": "code",
   "execution_count": 39,
   "outputs": [
    {
     "data": {
      "text/plain": "(320.0, 3900.0)"
     },
     "execution_count": 39,
     "metadata": {},
     "output_type": "execute_result"
    }
   ],
   "source": [
    "16000 * 20 / 1000,   78 / 0.02"
   ],
   "metadata": {
    "collapsed": false
   }
  }
 ],
 "metadata": {
  "kernelspec": {
   "display_name": "Python 3",
   "language": "python",
   "name": "python3"
  },
  "language_info": {
   "codemirror_mode": {
    "name": "ipython",
    "version": 2
   },
   "file_extension": ".py",
   "mimetype": "text/x-python",
   "name": "python",
   "nbconvert_exporter": "python",
   "pygments_lexer": "ipython2",
   "version": "2.7.6"
  }
 },
 "nbformat": 4,
 "nbformat_minor": 0
}
