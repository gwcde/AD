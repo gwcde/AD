{
 "cells": [
  {
   "cell_type": "code",
   "execution_count": 1,
   "metadata": {
    "collapsed": true
   },
   "outputs": [],
   "source": [
    "import s3prl\n",
    "import torch\n",
    "import numpy\n",
    "from pydub import AudioSegment\n",
    "import s3prl.hub as hub\n",
    "import os\n",
    "import torchaudio\n",
    "import torch.nn.functional as F\n",
    "import torch.nn as nn\n",
    "import numpy as np\n",
    "import random\n",
    "import pandas as pd\n",
    "from torch.utils.data import Dataset,DataLoader\n",
    "from torch.cuda.amp import autocast\n",
    "import math"
   ]
  },
  {
   "cell_type": "code",
   "execution_count": 2,
   "outputs": [],
   "source": [
    "class config:\n",
    "    seed = 2083\n",
    "    epoch = 20\n",
    "    learning_rate = 1e-5\n",
    "    device = 'cuda'\n",
    "    input_length = 160000\n",
    "    model_path = 'model_CNN.pth'"
   ],
   "metadata": {
    "collapsed": false
   }
  },
  {
   "cell_type": "code",
   "execution_count": 3,
   "outputs": [],
   "source": [
    "def seed_everything(seed):\n",
    "    random.seed(seed)\n",
    "    np.random.seed(seed)\n",
    "    torch.manual_seed(seed)\n",
    "    torch.cuda.manual_seed(seed)\n",
    "    torch.backends.cudnn.deterministic = True\n",
    "\n",
    "seed_everything(config.seed)"
   ],
   "metadata": {
    "collapsed": false
   }
  },
  {
   "cell_type": "code",
   "execution_count": 4,
   "outputs": [],
   "source": [
    "class MYDataset(nn.Module):\n",
    "    def __init__(self, subset=\"train\"):\n",
    "        super(MYDataset, self).__init__()\n",
    "        self.data = []\n",
    "\n",
    "        if subset == \"train\":  # 训练集\n",
    "            npz_path = \"../npz/train\"\n",
    "            x_files = os.listdir(npz_path)\n",
    "            y_data = pd.read_csv(\"../Data/training-groundtruth.csv\", usecols=[0,4])\n",
    "            y_dict = y_data.set_index('adressfname').to_dict()['dx']\n",
    "\n",
    "        elif subset == \"test\":\n",
    "            npz_path = \"../npz/sample\"\n",
    "            x_files = os.listdir(npz_path)\n",
    "            y_data = pd.read_csv(\"../Data/sample-groundtruth.csv\", usecols=[0,4])\n",
    "            y_dict = y_data.set_index('adressfname').to_dict()['dx']\n",
    "\n",
    "        for key, value in y_dict.items():\n",
    "            if value == 'ProbableAD':\n",
    "                y_dict[key] = 1.0\n",
    "            else:\n",
    "                y_dict[key] = 0.0\n",
    "\n",
    "            for file_name in x_files:\n",
    "                file_path = os.path.join(npz_path, file_name)\n",
    "                x = np.load(file_path)['data']\n",
    "                x = torch.from_numpy(x)  # 转换成tensor\n",
    "                # print(x.shape)\n",
    "                y = y_dict[file_name[:-4]]\n",
    "\n",
    "                # 切分\n",
    "                n = math.ceil(x.shape[0] / config.input_length)\n",
    "                for i in range(n):\n",
    "                    x_i = x[i * config.input_length : (i + 1) * config.input_length]\n",
    "                    if x_i.shape[0] != config.input_length:\n",
    "                        continue\n",
    "                        \"\"\"print(x_i.shape[0], config.input_length)\n",
    "                        x_i = torch.nn.functional.pad(x_i, (0, config.input_length - x_i.shape[0]))\"\"\"\n",
    "                    self.data.append((x_i, y))\n",
    "\n",
    "    def __getitem__(self, idx):\n",
    "        return self.data[idx]\n",
    "\n",
    "    def __len__(self):\n",
    "        return len(self.data)\n"
   ],
   "metadata": {
    "collapsed": false
   }
  },
  {
   "cell_type": "code",
   "execution_count": null,
   "outputs": [],
   "source": [
    "train_set = MYDataset(subset='train')\n",
    "test_set = MYDataset(subset='test')"
   ],
   "metadata": {
    "collapsed": false,
    "pycharm": {
     "is_executing": true
    }
   }
  },
  {
   "cell_type": "code",
   "execution_count": null,
   "outputs": [],
   "source": [
    "len(train_set), len(test_set)"
   ],
   "metadata": {
    "collapsed": false
   }
  },
  {
   "cell_type": "code",
   "execution_count": 7,
   "outputs": [
    {
     "name": "stdout",
     "output_type": "stream",
     "text": [
      "4544\n",
      "torch.Size([160000]) 0.0 torch.Size([160000]) 0.0\n",
      "torch.Size([160000]) 0.0\n"
     ]
    }
   ],
   "source": [
    "print(len(train_set))\n",
    "print(train_set[25][0].size(), train_set[25][1], train_set[0][0].size(), train_set[0][1])\n",
    "print(test_set[5][0].size(), test_set[5][1])"
   ],
   "metadata": {
    "collapsed": false
   }
  },
  {
   "cell_type": "code",
   "execution_count": 8,
   "outputs": [],
   "source": [
    "class classifier(nn.Module):\n",
    "    def __init__(self):\n",
    "        super(classifier, self).__init__()\n",
    "        self.mlp = nn.Sequential(\n",
    "            nn.Linear(160000, 1024),\n",
    "            nn.ReLU(inplace=True),\n",
    "            nn.Linear(1024, 512),\n",
    "            nn.ReLU(inplace=True),\n",
    "            nn.Linear(512, 1),\n",
    "        )\n",
    "\n",
    "    def forward(self, x):\n",
    "        output = self.mlp(x)\n",
    "        return output"
   ],
   "metadata": {
    "collapsed": false
   }
  },
  {
   "cell_type": "code",
   "execution_count": 9,
   "outputs": [],
   "source": [
    "class LSTM(nn.Module):\n",
    "    def __init__(self, input_size=160000, num_layers=2, hidden_size=256, output_size=1):\n",
    "        \"\"\"\n",
    "        LSTM二分类任务\n",
    "        :param input_size: 输入数据的维度\n",
    "        :param hidden_layer_size:隐层的数目\n",
    "        :param output_size: 输出的个数\n",
    "        \"\"\"\n",
    "        super().__init__()\n",
    "        self.hidden_size = hidden_size\n",
    "        self.num_layers =num_layers\n",
    "        self.lstm = nn.LSTM(input_size, hidden_size, num_layers, batch_first=True)\n",
    "        self.linear = nn.Sequential(\n",
    "            nn.Linear(hidden_size, 256),\n",
    "            nn.ReLU(inplace=True),\n",
    "            nn.Linear(256, output_size)\n",
    "        )\n",
    "\n",
    "\n",
    "    def forward(self, input_x):\n",
    "        input_x = input_x.view(len(input_x), 1, -1)\n",
    "        hidden_cell = (torch.zeros(self.num_layers, input_x.shape[0], self.hidden_size).to('cuda'),\n",
    "                       torch.zeros(self.num_layers, input_x.shape[0], self.hidden_size).to('cuda'))\n",
    "                      # shape: (n_layers, batch, hidden_size)\n",
    "\n",
    "\n",
    "        lstm_out, (h_n, h_c) = self.lstm(input_x, hidden_cell)\n",
    "        linear_out = self.linear(lstm_out.view(len(input_x), -1))  # =self.linear(lstm_out[:, -1, :])\n",
    "\n",
    "        return linear_out\n"
   ],
   "metadata": {
    "collapsed": false
   }
  },
  {
   "cell_type": "code",
   "execution_count": 19,
   "outputs": [],
   "source": [
    "class CNN(nn.Module):\n",
    "    def __init__(self):\n",
    "        super(CNN, self).__init__()\n",
    "        self.cnn1 = nn.Conv1d(in_channels=1, out_channels=32, kernel_size=3)\n",
    "        self.cnn2 = nn.Conv1d(in_channels=32, out_channels=64, kernel_size=3)\n",
    "        self.pool1 =  nn.MaxPool1d(kernel_size=2)\n",
    "        self.relu1 = nn.ReLU()\n",
    "        self.cnn3 = nn.Conv1d(in_channels=64, out_channels=128, kernel_size=3)\n",
    "        self.pool2 =  nn.MaxPool1d(kernel_size=2)\n",
    "        self.relu2 = nn.ReLU()\n",
    "        self.cnn4 = nn.Conv1d(in_channels=128, out_channels=256, kernel_size=3)\n",
    "        self.pool3 =  nn.MaxPool1d(kernel_size=2)\n",
    "        self.cnn5 = nn.Conv1d(in_channels=256, out_channels=512, kernel_size=3)\n",
    "        self.pool4 =  nn.MaxPool1d(kernel_size=2)\n",
    "        self.relu3 = nn.ReLU()\n",
    "        self.adapool = nn.AdaptiveAvgPool1d(1)\n",
    "        self.linear = nn.Sequential(\n",
    "            nn.Flatten(start_dim=1),\n",
    "            nn.Linear(in_features=512, out_features=512, bias=True),\n",
    "            nn.ReLU(inplace=True),\n",
    "            nn.Linear(in_features=512, out_features=1, bias=True)\n",
    "        )\n",
    "\n",
    "    def forward(self, x):\n",
    "        # print(x.shape)\n",
    "        x = torch.unsqueeze(x, dim = 1)\n",
    "        # print(x.shape)\n",
    "        x = self.cnn1(x)\n",
    "        # print(x.shape)\n",
    "        x = self.cnn2(x)\n",
    "        # print(x.shape)\n",
    "        x = self.pool1(x)\n",
    "        x = self.relu1(x)\n",
    "        # print(x.shape)\n",
    "        x = self.cnn3(x)\n",
    "        # print(x.shape)\n",
    "        x = self.pool2(x)\n",
    "        x = self.relu2(x)\n",
    "        # print(x.shape)\n",
    "        x = self.cnn4(x)\n",
    "        x = self.pool3(x)\n",
    "        # print(x.shape)\n",
    "        x = self.cnn5(x)\n",
    "        # print(x.shape)\n",
    "        x = self.pool4(x)\n",
    "        x = self.relu3(x)\n",
    "        x = self.adapool(x)\n",
    "        # print(x.shape)\n",
    "        x = self.linear(x)\n",
    "        return x"
   ],
   "metadata": {
    "collapsed": false
   }
  },
  {
   "cell_type": "code",
   "execution_count": 20,
   "outputs": [],
   "source": [
    "train_loader = DataLoader(train_set, batch_size=4, shuffle=True)\n",
    "test_loader = DataLoader(test_set, batch_size=4,shuffle=True)"
   ],
   "metadata": {
    "collapsed": false
   }
  },
  {
   "cell_type": "code",
   "execution_count": 21,
   "outputs": [
    {
     "data": {
      "text/plain": "CNN(\n  (cnn1): Conv1d(1, 32, kernel_size=(3,), stride=(1,))\n  (cnn2): Conv1d(32, 64, kernel_size=(3,), stride=(1,))\n  (pool1): MaxPool1d(kernel_size=2, stride=2, padding=0, dilation=1, ceil_mode=False)\n  (relu1): ReLU()\n  (cnn3): Conv1d(64, 128, kernel_size=(3,), stride=(1,))\n  (pool2): MaxPool1d(kernel_size=2, stride=2, padding=0, dilation=1, ceil_mode=False)\n  (relu2): ReLU()\n  (cnn4): Conv1d(128, 256, kernel_size=(3,), stride=(1,))\n  (pool3): MaxPool1d(kernel_size=2, stride=2, padding=0, dilation=1, ceil_mode=False)\n  (cnn5): Conv1d(256, 512, kernel_size=(3,), stride=(1,))\n  (pool4): MaxPool1d(kernel_size=2, stride=2, padding=0, dilation=1, ceil_mode=False)\n  (relu3): ReLU()\n  (adapool): AdaptiveAvgPool1d(output_size=1)\n  (linear): Sequential(\n    (0): Flatten(start_dim=1, end_dim=-1)\n    (1): Linear(in_features=512, out_features=512, bias=True)\n    (2): ReLU(inplace=True)\n    (3): Linear(in_features=512, out_features=1, bias=True)\n  )\n)"
     },
     "execution_count": 21,
     "metadata": {},
     "output_type": "execute_result"
    }
   ],
   "source": [
    "model = CNN()\n",
    "# model_0 = getattr(hub, \"hubert\")()\n",
    "model.cuda()"
   ],
   "metadata": {
    "collapsed": false
   }
  },
  {
   "cell_type": "code",
   "execution_count": 22,
   "outputs": [],
   "source": [
    "def number_of_correct(pred, target):\n",
    "    # count number of correct predictions\n",
    "    return (pred == target).float().sum()\n",
    "def get_likely_index(tensor):\n",
    "\n",
    "    # find most likely label index for each element in the batch\n",
    "    return torch.round(torch.sigmoid(tensor))"
   ],
   "metadata": {
    "collapsed": false
   }
  },
  {
   "cell_type": "code",
   "execution_count": 23,
   "outputs": [
    {
     "data": {
      "text/plain": "(tensor(4.), 24.0)"
     },
     "execution_count": 23,
     "metadata": {},
     "output_type": "execute_result"
    }
   ],
   "source": [
    "output = torch.Tensor([0.6157, 0.1404, 0.8154, 0.1813])\n",
    "a = 20\n",
    "labels = torch.Tensor([1., 1., 1., 1.])\n",
    "pred = get_likely_index(output)\n",
    "b = number_of_correct(pred, labels)\n",
    "b, a+ b.item()"
   ],
   "metadata": {
    "collapsed": false
   }
  },
  {
   "cell_type": "code",
   "execution_count": 24,
   "outputs": [],
   "source": [
    "import torch.optim as optim\n",
    "trainables = [p for p in model.parameters() if p.requires_grad]\n",
    "optimizer = torch.optim.Adam(trainables, lr=config.learning_rate, weight_decay=0.0001)\n",
    "scheduler = optim.lr_scheduler.StepLR(optimizer, step_size=3,\n",
    "                                      gamma=0.4)  # reduce the learning after 20 epochs by a factor of 10\n",
    "loss_fn = nn.BCEWithLogitsLoss()\n",
    "n_epoch = config.epoch\n",
    "best_acc = 0.0"
   ],
   "metadata": {
    "collapsed": false
   }
  },
  {
   "cell_type": "code",
   "execution_count": 25,
   "outputs": [],
   "source": [
    "def train(model, epoch):\n",
    "    epoch_loss = 0\n",
    "    epoch_acc = 0\n",
    "    model.train()\n",
    "\n",
    "    for batch_idx, (inputs, labels) in enumerate(train_loader):\n",
    "        inputs, labels = inputs.to(config.device), labels.to(config.device)\n",
    "\n",
    "        with autocast():\n",
    "            outputs = model(inputs).squeeze(1)\n",
    "            loss = loss_fn(outputs, labels)\n",
    "            # 计算准确率\n",
    "            pred = get_likely_index(outputs)\n",
    "            # print(labels, pred, outputs)\n",
    "            correct = number_of_correct(pred, get_likely_index(labels))\n",
    "\n",
    "\n",
    "        optimizer.zero_grad()\n",
    "        loss.backward()\n",
    "        optimizer.step()\n",
    "\n",
    "        epoch_loss += loss.item()\n",
    "        epoch_acc += correct.item()\n",
    "\n",
    "    train_acc = epoch_acc / len(train_loader.dataset)\n",
    "    # print(epoch_acc, len(train_loader.dataset))\n",
    "    train_loss = epoch_loss / len(train_loader.dataset)\n",
    "    print(\"Train Epoch: {} Train Loss: {:.6f} Train Acc: {:.6f}\".format(epoch, train_loss, train_acc))\n",
    "\n",
    "    return train_acc, train_loss\n",
    "\n",
    "\n",
    "def test(model, epoch):\n",
    "    epoch_loss = 0\n",
    "    epoch_acc = 0\n",
    "    model.eval() # set the model to evaluation mode\n",
    "\n",
    "    with torch.no_grad():\n",
    "        for i, data in enumerate(test_loader):\n",
    "            inputs, labels = data\n",
    "            inputs, labels = inputs.to(config.device), labels.to(config.device)\n",
    "\n",
    "            outputs = model(inputs).squeeze(1)\n",
    "            loss = loss_fn(outputs, labels)\n",
    "            # 计算准确率\n",
    "            pred = get_likely_index(outputs)\n",
    "            correct = number_of_correct(pred, get_likely_index(labels))\n",
    "\n",
    "            epoch_loss += loss.item()\n",
    "            epoch_acc += correct.item()\n",
    "\n",
    "\n",
    "    val_acc = epoch_acc / len(test_loader.dataset)\n",
    "    val_loss = epoch_loss / len(test_loader.dataset)\n",
    "    print(\"Test Epoch: {} Test Loss {:.6f} Test Accuracy: {:.6f}\\n\".format(epoch, val_loss, val_acc))\n",
    "\n",
    "    return val_acc, val_loss"
   ],
   "metadata": {
    "collapsed": false
   }
  },
  {
   "cell_type": "code",
   "execution_count": 26,
   "outputs": [
    {
     "name": "stdout",
     "output_type": "stream",
     "text": [
      "Train Epoch: 1 Train Loss: 0.171236 Train Acc: 0.570643\n",
      "Test Epoch: 1 Test Loss 0.173653 Test Accuracy: 0.521739\n",
      "\n",
      "Epoch: 1 saving model with Acc 0.522\n",
      "Train Epoch: 2 Train Loss: 0.170753 Train Acc: 0.572403\n",
      "Test Epoch: 2 Test Loss 0.174165 Test Accuracy: 0.521739\n",
      "\n",
      "Epoch: 2 saving model with Acc 0.522\n",
      "Train Epoch: 3 Train Loss: 0.170716 Train Acc: 0.572403\n",
      "Test Epoch: 3 Test Loss 0.174081 Test Accuracy: 0.521739\n",
      "\n",
      "Epoch: 3 saving model with Acc 0.522\n",
      "Train Epoch: 4 Train Loss: 0.170659 Train Acc: 0.572403\n",
      "Test Epoch: 4 Test Loss 0.174394 Test Accuracy: 0.521739\n",
      "\n",
      "Epoch: 4 saving model with Acc 0.522\n",
      "Train Epoch: 5 Train Loss: 0.170674 Train Acc: 0.572403\n",
      "Test Epoch: 5 Test Loss 0.174559 Test Accuracy: 0.521739\n",
      "\n",
      "Epoch: 5 saving model with Acc 0.522\n",
      "Train Epoch: 6 Train Loss: 0.170676 Train Acc: 0.572403\n",
      "Test Epoch: 6 Test Loss 0.174314 Test Accuracy: 0.521739\n",
      "\n",
      "Epoch: 6 saving model with Acc 0.522\n",
      "Train Epoch: 7 Train Loss: 0.170642 Train Acc: 0.572403\n",
      "Test Epoch: 7 Test Loss 0.174178 Test Accuracy: 0.521739\n",
      "\n",
      "Epoch: 7 saving model with Acc 0.522\n",
      "Train Epoch: 8 Train Loss: 0.170641 Train Acc: 0.572403\n",
      "Test Epoch: 8 Test Loss 0.174277 Test Accuracy: 0.521739\n",
      "\n",
      "Epoch: 8 saving model with Acc 0.522\n",
      "Train Epoch: 9 Train Loss: 0.170640 Train Acc: 0.572403\n",
      "Test Epoch: 9 Test Loss 0.174317 Test Accuracy: 0.521739\n",
      "\n",
      "Epoch: 9 saving model with Acc 0.522\n",
      "Train Epoch: 10 Train Loss: 0.170627 Train Acc: 0.572403\n",
      "Test Epoch: 10 Test Loss 0.174335 Test Accuracy: 0.521739\n",
      "\n",
      "Epoch: 10 saving model with Acc 0.522\n",
      "Train Epoch: 11 Train Loss: 0.170628 Train Acc: 0.572403\n",
      "Test Epoch: 11 Test Loss 0.174371 Test Accuracy: 0.521739\n",
      "\n",
      "Epoch: 11 saving model with Acc 0.522\n",
      "Train Epoch: 12 Train Loss: 0.170630 Train Acc: 0.572403\n",
      "Test Epoch: 12 Test Loss 0.174351 Test Accuracy: 0.521739\n",
      "\n",
      "Epoch: 12 saving model with Acc 0.522\n",
      "Train Epoch: 13 Train Loss: 0.170623 Train Acc: 0.572403\n",
      "Test Epoch: 13 Test Loss 0.174365 Test Accuracy: 0.521739\n",
      "\n",
      "Epoch: 13 saving model with Acc 0.522\n",
      "Train Epoch: 14 Train Loss: 0.170624 Train Acc: 0.572403\n",
      "Test Epoch: 14 Test Loss 0.174374 Test Accuracy: 0.521739\n",
      "\n",
      "Epoch: 14 saving model with Acc 0.522\n",
      "Train Epoch: 15 Train Loss: 0.170625 Train Acc: 0.572403\n",
      "Test Epoch: 15 Test Loss 0.174382 Test Accuracy: 0.521739\n",
      "\n",
      "Epoch: 15 saving model with Acc 0.522\n",
      "Train Epoch: 16 Train Loss: 0.170621 Train Acc: 0.572403\n",
      "Test Epoch: 16 Test Loss 0.174390 Test Accuracy: 0.521739\n",
      "\n",
      "Epoch: 16 saving model with Acc 0.522\n",
      "Train Epoch: 17 Train Loss: 0.170621 Train Acc: 0.572403\n",
      "Test Epoch: 17 Test Loss 0.174396 Test Accuracy: 0.521739\n",
      "\n",
      "Epoch: 17 saving model with Acc 0.522\n",
      "Train Epoch: 18 Train Loss: 0.170621 Train Acc: 0.572403\n",
      "Test Epoch: 18 Test Loss 0.174400 Test Accuracy: 0.521739\n",
      "\n",
      "Epoch: 18 saving model with Acc 0.522\n",
      "Train Epoch: 19 Train Loss: 0.170621 Train Acc: 0.572403\n",
      "Test Epoch: 19 Test Loss 0.174401 Test Accuracy: 0.521739\n",
      "\n",
      "Epoch: 19 saving model with Acc 0.522\n",
      "Train Epoch: 20 Train Loss: 0.170621 Train Acc: 0.572403\n",
      "Test Epoch: 20 Test Loss 0.174403 Test Accuracy: 0.521739\n",
      "\n",
      "Epoch: 20 saving model with Acc 0.522\n"
     ]
    }
   ],
   "source": [
    "train_accs, train_losses, val_accs, val_losses = [], [], [], []\n",
    "\n",
    "for epoch in range(1, n_epoch + 1):\n",
    "    train_acc, train_loss = train(model, epoch)\n",
    "    val_acc, val_loss = test(model, epoch)\n",
    "\n",
    "    train_accs.append(train_acc), train_losses.append(train_loss)\n",
    "    val_accs.append(val_acc), val_losses.append(val_loss)\n",
    "\n",
    "    scheduler.step()\n",
    "    if val_acc >= best_acc:\n",
    "        best_acc = val_acc\n",
    "        torch.save({'epoch': epoch, 'state_dict': model.state_dict()}, config.model_path)\n",
    "        print('Epoch: {} saving model with Acc {:.3f}'.format(epoch, best_acc))"
   ],
   "metadata": {
    "collapsed": false
   }
  },
  {
   "cell_type": "code",
   "execution_count": 27,
   "outputs": [],
   "source": [
    "# batch_size = 4 length = 160000  1024 - > 512 - > 1\n",
    "import matplotlib.pyplot as plt"
   ],
   "metadata": {
    "collapsed": false
   }
  },
  {
   "cell_type": "code",
   "execution_count": 28,
   "outputs": [],
   "source": [
    "def plot(train_accs, train_losses, val_accs, val_losses):\n",
    "    # 绘制 acc 曲线\n",
    "    plt.figure()\n",
    "    plt.plot(train_accs, label='Train')\n",
    "    plt.plot(val_accs, label='Validation')\n",
    "    plt.xlabel('Epoch')\n",
    "    plt.ylabel('Accuracy')\n",
    "    plt.legend()\n",
    "\n",
    "    # 绘制 loss 曲线\n",
    "    plt.figure()\n",
    "    plt.plot(train_losses, label='Train')\n",
    "    plt.plot(val_losses, label='Validation')\n",
    "    plt.xlabel('Epoch')\n",
    "    plt.ylabel('Loss')\n",
    "    plt.legend()"
   ],
   "metadata": {
    "collapsed": false
   }
  },
  {
   "cell_type": "code",
   "execution_count": 29,
   "outputs": [
    {
     "data": {
      "text/plain": "<Figure size 640x480 with 1 Axes>",
      "image/png": "[encoded data removed]"
     },
     "metadata": {},
     "output_type": "display_data"
    },
    {
     "data": {
      "text/plain": "<Figure size 640x480 with 1 Axes>",
      "image/png": "[encoded data removed]"
     },
     "metadata": {},
     "output_type": "display_data"
    }
   ],
   "source": [
    "plot(train_accs, train_losses, val_accs, val_losses)"
   ],
   "metadata": {
    "collapsed": false
   }
  },
  {
   "cell_type": "code",
   "execution_count": null,
   "outputs": [],
   "source": [
    "train_accs, train_losses, val_accs, val_losses"
   ],
   "metadata": {
    "collapsed": false
   }
  },
  {
   "cell_type": "code",
   "execution_count": null,
   "outputs": [],
   "source": [],
   "metadata": {
    "collapsed": false
   }
  }
 ],
 "metadata": {
  "kernelspec": {
   "display_name": "Python 3",
   "language": "python",
   "name": "python3"
  },
  "language_info": {
   "codemirror_mode": {
    "name": "ipython",
    "version": 2
   },
   "file_extension": ".py",
   "mimetype": "text/x-python",
   "name": "python",
   "nbconvert_exporter": "python",
   "pygments_lexer": "ipython2",
   "version": "2.7.6"
  }
 },
 "nbformat": 4,
 "nbformat_minor": 0
}
