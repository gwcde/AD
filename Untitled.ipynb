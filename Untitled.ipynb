{
 "cells": [
  {
   "cell_type": "code",
   "execution_count": 2,
   "id": "411e463c-a60d-4250-970c-dcf1f92e97e2",
   "metadata": {},
   "outputs": [],
   "source": [
    "import numpy as np\n",
    "arr = np.load('./data/train/adrso002.npz')"
   ]
  },
  {
   "cell_type": "code",
   "execution_count": 3,
   "id": "5f7fcb0f-f899-451d-8616-03a43f218bc5",
   "metadata": {},
   "outputs": [
    {
     "data": {
      "text/plain": [
       "<numpy.lib.npyio.NpzFile at 0x7fa51ab7bd30>"
      ]
     },
     "execution_count": 3,
     "metadata": {},
     "output_type": "execute_result"
    }
   ],
   "source": [
    "arr"
   ]
  },
  {
   "cell_type": "code",
   "execution_count": 4,
   "id": "282d0977-844f-4874-9fc4-6fb99cce8daf",
   "metadata": {},
   "outputs": [
    {
     "data": {
      "text/plain": [
       "(3194880,)"
      ]
     },
     "execution_count": 4,
     "metadata": {},
     "output_type": "execute_result"
    }
   ],
   "source": [
    "arr['data'].shape"
   ]
  },
  {
   "cell_type": "code",
   "execution_count": null,
   "id": "0a8a4ca8-c08c-48a4-b54f-95db1a7dc8a1",
   "metadata": {},
   "outputs": [],
   "source": []
  }
 ],
 "metadata": {
  "kernelspec": {
   "display_name": "s3prl",
   "language": "python",
   "name": "s3prl"
  },
  "language_info": {
   "codemirror_mode": {
    "name": "ipython",
    "version": 3
   },
   "file_extension": ".py",
   "mimetype": "text/x-python",
   "name": "python",
   "nbconvert_exporter": "python",
   "pygments_lexer": "ipython3",
   "version": "3.10.8"
  }
 },
 "nbformat": 4,
 "nbformat_minor": 5
}
